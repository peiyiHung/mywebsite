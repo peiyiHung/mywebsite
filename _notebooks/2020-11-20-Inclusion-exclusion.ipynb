{
 "cells": [
  {
   "cell_type": "markdown",
   "id": "negative-mainstream",
   "metadata": {},
   "source": [
    "# \"[Probability] Inclusion-Exculsion\"\n",
    "> \"How to compute the probability of union of several events?\"\n",
    "\n",
    "- toc:true\n",
    "- branch: master\n",
    "- badges: false\n",
    "- comments: true\n",
    "- author: Peiyi Hung\n",
    "- categories: [category, learning]\n",
    "- image:"
   ]
  },
  {
   "cell_type": "markdown",
   "id": "completed-simple",
   "metadata": {},
   "source": [
    "The problem I intend to solve in this post is how to compute the probability of union of several events (not necessarily disjoint)?"
   ]
  },
  {
   "cell_type": "markdown",
   "id": "raised-blast",
   "metadata": {},
   "source": [
    "**Incusion-Exclusion**\n",
    "\n",
    "For any events $A_1$,...,$A_n$, we can compute the unoin of these events by\n",
    "\n",
    "$$P(\\bigcup_{i=1}^{n}A_i) = \\sum_{i}P(A_{i}) - \\sum_{i<j}P(A_{i}\\cap A_{j}) +  \\sum_{i<j<k}P(A_{i}\\cap A_{j}\\cap A_{k}) - ...+ (-1)^{n+1} P(A_1\\cap A_2\\cap...\\cap A_n)$$\n",
    "\n",
    "I will illurate how to use this theorem by soving a example problem. "
   ]
  },
  {
   "cell_type": "markdown",
   "id": "legendary-metallic",
   "metadata": {},
   "source": [
    "**Example prblem**\n",
    "\n",
    "```\n",
    "For a group of 7 people, find the probability that all 4 seasons (winter, spring, summer and fall) occur at least once each among their birthdays, assuming that all seasons are equally likely.\n",
    "```"
   ]
  }
 ],
 "metadata": {
  "kernelspec": {
   "display_name": "Python 3",
   "language": "python",
   "name": "python3"
  },
  "language_info": {
   "codemirror_mode": {
    "name": "ipython",
    "version": 3
   },
   "file_extension": ".py",
   "mimetype": "text/x-python",
   "name": "python",
   "nbconvert_exporter": "python",
   "pygments_lexer": "ipython3",
   "version": "3.8.5"
  }
 },
 "nbformat": 4,
 "nbformat_minor": 5
}

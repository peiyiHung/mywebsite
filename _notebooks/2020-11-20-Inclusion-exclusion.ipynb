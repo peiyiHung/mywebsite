{
 "cells": [
  {
   "cell_type": "markdown",
   "id": "central-graph",
   "metadata": {},
   "source": [
    "# \"[Probability] Inclusion-Exculsion\"\n",
    "> \"How to compute the probability of union of several events?\"\n",
    "\n",
    "- toc:false\n",
    "- branch: master\n",
    "- badges: false\n",
    "- comments: true\n",
    "- author: Peiyi Hung\n",
    "- categories: [category, learning, probability]"
   ]
  },
  {
   "cell_type": "markdown",
   "id": "wooden-literature",
   "metadata": {},
   "source": [
    "The problem I intend to solve in this post is how to compute the probability of union of several events which are not necessarily disjoint. This problem would be solved by the inclusion-exclusion theorem."
   ]
  },
  {
   "cell_type": "markdown",
   "id": "geographic-watts",
   "metadata": {},
   "source": [
    "**Incusion-Exclusion**\n",
    "\n",
    "For any events $A_1$,...,$A_n$, we can compute the unoin of these events by\n",
    "\n",
    "$$P(\\bigcup_{i=1}^{n}A_i) = \\sum_{i}P(A_{i}) - \\sum_{i<j}P(A_{i}\\cap A_{j}) +  \\sum_{i<j<k}P(A_{i}\\cap A_{j}\\cap A_{k}) - ...+ (-1)^{n+1} P(A_1\\cap A_2\\cap...\\cap A_n)$$\n",
    "\n",
    "When $n=2$, this formula will reduce to a special case which we are more fimiliar with:\n",
    "\n",
    "$$P(A_{1} \\cup A_{2}) = P(A_1) + P(A_2) - P(A_1 \\cap A_2)$$\n",
    "\n",
    "Let's see how we can use this formula in a problem."
   ]
  },
  {
   "cell_type": "markdown",
   "id": "literary-excuse",
   "metadata": {},
   "source": [
    "**Example problem**\n",
    "\n",
    "> For a group of 7 people, find the probability that all 4 seasons (winter, spring, summer and fall) occur at least once each among their birthdays, assuming that all seasons are equally likely.\n",
    "\n",
    "First, we define several events: $A_1$-there is no birthday in winter, $A_2$-there is no birthday in spring, $A_3$- there is no birthday in summer, and $A_4$-there is no birthday in fall.\n",
    "\n",
    "We know that $P(\\text{all 4 seasons occur at least once})$ would be $1 - P(\\text{at least one season has no birthday in it})$. So if we express this in events, that will be\n",
    "$$P(\\text{all 4 seasons occur at least once}) = 1 - P(A_1 \\cup A_2 \\cup A_3 \\cup A_4)$$\n",
    "\n",
    "Next we can compute $P(A_1 \\cup A_2 \\cup A_3 \\cup A_4)$ using the inclusion-exclusion formula. Before we compute our union probablity, we need to calculate some probabilities. \n",
    "\n",
    "* $P(A_1) = \\frac{3^7}{4^7} $, the birthday of each person can be in spring, summer, or winter. That is $3^7$ possible combinations.\n",
    "* $P(A_1 \\cap A_2) = \\frac{2^7}{4^7}$, the birthday of each person can be in summer or winter. That is $2^7$ possible combinations.\n",
    "* $P(A_1 \\cap A_2 \\cap A_2) = \\frac{1}{4^7}$, the birthday of each person can only be in winter. That is 1 possible outcome.\n",
    "\n",
    "By symmetry and inclusion-exclusion, we have\n",
    "\n",
    "$$P(A_1 \\cup A_2 \\cup A_3 \\cup A_4) = 4 \\times \\frac{3^7}{4^7} - 6 \\times \\frac{2^7}{4^7}  + 4\\times\\frac{1}{4^7}$$\n",
    "\n",
    "Therefore, $P(\\text{all 4 seasons occur at least once}) = 1 - 4\\frac{3^7}{4^7} - 6 \\frac{1}{2^7}  + \\frac{4}{4^7} \\approx 0.513$"
   ]
  },
  {
   "cell_type": "markdown",
   "id": "satisfied-corner",
   "metadata": {},
   "source": [
    "**Reference**\n",
    "1. *Introduction to Probability* by Joe Blitzstein and Jessica Hwang,"
   ]
  }
 ],
 "metadata": {
  "kernelspec": {
   "display_name": "Python 3",
   "language": "python",
   "name": "python3"
  },
  "language_info": {
   "codemirror_mode": {
    "name": "ipython",
    "version": 3
   },
   "file_extension": ".py",
   "mimetype": "text/x-python",
   "name": "python",
   "nbconvert_exporter": "python",
   "pygments_lexer": "ipython3",
   "version": "3.8.5"
  }
 },
 "nbformat": 4,
 "nbformat_minor": 5
}

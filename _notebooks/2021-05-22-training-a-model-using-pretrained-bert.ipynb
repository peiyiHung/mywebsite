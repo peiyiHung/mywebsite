{
 "cells": [
  {
   "cell_type": "markdown",
   "metadata": {},
   "source": [
    "# \"Recognize insincere questions on Quora with BERT\"\n",
    "> \"To tell if a question is sincere or not with BERT and fastai\"\n",
    "\n",
    "- toc:true\n",
    "- branch: master\n",
    "- badges: true\n",
    "- comments: true\n",
    "- author: Peiyi Hung\n",
    "- categories: [category, project]\n",
    "- image: "
   ]
  },
  {
   "cell_type": "code",
   "execution_count": 1,
   "metadata": {},
   "outputs": [],
   "source": [
    "import numpy as np\n",
    "import pandas as pd\n",
    "\n",
    "from transformers import AutoTokenizer, AutoModelForSequenceClassification\n",
    "from fastai.text.all import *\n",
    "from sklearn.model_selection import train_test_split\n",
    "\n",
    "from torch.utils.data import Dataset"
   ]
  },
  {
   "cell_type": "code",
   "execution_count": 2,
   "metadata": {},
   "outputs": [],
   "source": [
    "path = \"/kaggle/input/quora-insincere-questions-classification/\"\n",
    "train_df = pd.read_csv(path + \"train.csv\")\n",
    "test_df = pd.read_csv(path + \"test.csv\")"
   ]
  },
  {
   "cell_type": "code",
   "execution_count": 3,
   "metadata": {},
   "outputs": [
    {
     "data": {
      "text/plain": [
       "((1306122, 3), (375806, 2))"
      ]
     },
     "execution_count": 3,
     "metadata": {},
     "output_type": "execute_result"
    }
   ],
   "source": [
    "train_df.shape, test_df.shape"
   ]
  },
  {
   "cell_type": "code",
   "execution_count": 4,
   "metadata": {},
   "outputs": [
    {
     "data": {
      "text/plain": [
       "0    0.93813\n",
       "1    0.06187\n",
       "Name: target, dtype: float64"
      ]
     },
     "execution_count": 4,
     "metadata": {},
     "output_type": "execute_result"
    }
   ],
   "source": [
    "train_df[\"target\"].value_counts()/train_df.shape[0]"
   ]
  },
  {
   "cell_type": "code",
   "execution_count": 5,
   "metadata": {},
   "outputs": [],
   "source": [
    "all_text = pd.concat([train_df[\"question_text\"], test_df[\"question_text\"]], axis=0)"
   ]
  },
  {
   "cell_type": "code",
   "execution_count": 6,
   "metadata": {},
   "outputs": [],
   "source": [
    "def sample_text(n=10):\n",
    "    sample = all_text.sample(n)\n",
    "    print(\" | \".join(sample))"
   ]
  },
  {
   "cell_type": "code",
   "execution_count": 7,
   "metadata": {},
   "outputs": [
    {
     "name": "stdout",
     "output_type": "stream",
     "text": [
      "Why do some women gain so much weight when they get pregnant and some women don't? | How can you extract bromine tetrafluoride from uranium? | How many websites (not web pages) are indexed in Google? | A fair coin is flipped 10 times. What is the probability of getting less than 4 heads? Use Table A-1 for Binomial Distribution. | What are your thoughts, plans and ideas to become an entrepreneur? | If you have 300K to invest in online business, what will you do? | Who should use a Roth 401k? | What are the most important qualities we should look for in a home cleaning professional before hiring them? | What are the best marketing channels for SaaS companies? | Do you have Mathematics optional?\n"
     ]
    }
   ],
   "source": [
    "sample_text()"
   ]
  },
  {
   "cell_type": "code",
   "execution_count": 8,
   "metadata": {},
   "outputs": [
    {
     "data": {
      "image/png": "[encoded data removed]",
      "text/plain": [
       "<Figure size 432x288 with 1 Axes>"
      ]
     },
     "metadata": {
      "needs_background": "light"
     },
     "output_type": "display_data"
    }
   ],
   "source": [
    "train_df[\"question_text\"].apply(lambda x:len(x.split())).plot(kind=\"hist\");"
   ]
  },
  {
   "cell_type": "markdown",
   "metadata": {},
   "source": [
    "# Data"
   ]
  },
  {
   "cell_type": "code",
   "execution_count": 9,
   "metadata": {},
   "outputs": [
    {
     "data": {
      "application/vnd.jupyter.widget-view+json": {
       "model_id": "dcd90dda88fc45a89c1bef7ebbc78bad",
       "version_major": 2,
       "version_minor": 0
      },
      "text/plain": [
       "Downloading:   0%|          | 0.00/570 [00:00<?, ?B/s]"
      ]
     },
     "metadata": {},
     "output_type": "display_data"
    },
    {
     "data": {
      "application/vnd.jupyter.widget-view+json": {
       "model_id": "4ac28191da7540c6b2ae5c37f026536f",
       "version_major": 2,
       "version_minor": 0
      },
      "text/plain": [
       "Downloading:   0%|          | 0.00/213k [00:00<?, ?B/s]"
      ]
     },
     "metadata": {},
     "output_type": "display_data"
    },
    {
     "data": {
      "application/vnd.jupyter.widget-view+json": {
       "model_id": "c99b430512304ce1b2981c9503115596",
       "version_major": 2,
       "version_minor": 0
      },
      "text/plain": [
       "Downloading:   0%|          | 0.00/436k [00:00<?, ?B/s]"
      ]
     },
     "metadata": {},
     "output_type": "display_data"
    },
    {
     "data": {
      "application/vnd.jupyter.widget-view+json": {
       "model_id": "42b69e9227a74bb7a780be0d2b39ab05",
       "version_major": 2,
       "version_minor": 0
      },
      "text/plain": [
       "Downloading:   0%|          | 0.00/29.0 [00:00<?, ?B/s]"
      ]
     },
     "metadata": {},
     "output_type": "display_data"
    }
   ],
   "source": [
    "tokenizer = AutoTokenizer.from_pretrained('bert-base-cased')"
   ]
  },
  {
   "cell_type": "code",
   "execution_count": 10,
   "metadata": {},
   "outputs": [],
   "source": [
    "class QuestionDataset(Dataset):\n",
    "    def __init__(self, X, y, tokenizer):\n",
    "        self.text = X.reset_index(drop=True)\n",
    "        self.targets = y.reset_index(drop=True)\n",
    "        self.tok = tokenizer\n",
    "    \n",
    "    def __len__(self):\n",
    "        return len(self.text)\n",
    "    \n",
    "    def __getitem__(self, idx):\n",
    "        \n",
    "        text = self.text[idx]\n",
    "        targ = self.targets[idx]\n",
    "        \n",
    "        return self.tok(text, padding='max_length', \n",
    "                        truncation=True,\n",
    "                        max_length=30,\n",
    "                        return_tensors=\"pt\")[\"input_ids\"][0], tensor(targ)"
   ]
  },
  {
   "cell_type": "code",
   "execution_count": 11,
   "metadata": {},
   "outputs": [],
   "source": [
    "df = train_df\n",
    "X_train, X_valid, y_train, y_valid = train_test_split(df[\"question_text\"], df[\"target\"], \n",
    "                                                      stratify=df[\"target\"],  test_size=0.01)\n",
    "\n",
    "train_ds = QuestionDataset(X_train, y_train, tokenizer)\n",
    "valid_ds = QuestionDataset(X_valid, y_valid, tokenizer)\n",
    "\n",
    "train_dl = DataLoader(train_ds, bs=256)\n",
    "valid_dl = DataLoader(valid_ds, bs=512)\n",
    "dls = DataLoaders(train_dl, valid_dl).to(\"cuda\")"
   ]
  },
  {
   "cell_type": "markdown",
   "metadata": {},
   "source": [
    "# Model"
   ]
  },
  {
   "cell_type": "code",
   "execution_count": 12,
   "metadata": {},
   "outputs": [
    {
     "data": {
      "application/vnd.jupyter.widget-view+json": {
       "model_id": "2ba0452ca5154303bcf078e77b086239",
       "version_major": 2,
       "version_minor": 0
      },
      "text/plain": [
       "Downloading:   0%|          | 0.00/436M [00:00<?, ?B/s]"
      ]
     },
     "metadata": {},
     "output_type": "display_data"
    },
    {
     "name": "stderr",
     "output_type": "stream",
     "text": [
      "Some weights of the model checkpoint at bert-base-cased were not used when initializing BertForSequenceClassification: ['cls.predictions.bias', 'cls.predictions.transform.dense.weight', 'cls.predictions.transform.dense.bias', 'cls.predictions.decoder.weight', 'cls.seq_relationship.weight', 'cls.seq_relationship.bias', 'cls.predictions.transform.LayerNorm.weight', 'cls.predictions.transform.LayerNorm.bias']\n",
      "- This IS expected if you are initializing BertForSequenceClassification from the checkpoint of a model trained on another task or with another architecture (e.g. initializing a BertForSequenceClassification model from a BertForPreTraining model).\n",
      "- This IS NOT expected if you are initializing BertForSequenceClassification from the checkpoint of a model that you expect to be exactly identical (initializing a BertForSequenceClassification model from a BertForSequenceClassification model).\n",
      "Some weights of BertForSequenceClassification were not initialized from the model checkpoint at bert-base-cased and are newly initialized: ['classifier.weight', 'classifier.bias']\n",
      "You should probably TRAIN this model on a down-stream task to be able to use it for predictions and inference.\n"
     ]
    }
   ],
   "source": [
    "bert = AutoModelForSequenceClassification.from_pretrained('bert-base-cased').train()\n",
    "\n",
    "classifier = nn.Sequential(\n",
    "    nn.Linear(768, 1024),\n",
    "    nn.ReLU(),\n",
    "    nn.Dropout(0.5),\n",
    "    nn.Linear(1024, 2)\n",
    ")\n",
    "\n",
    "bert.classifier = classifier\n",
    "\n",
    "class BertClassifier(Module):\n",
    "    def __init__(self, bert):\n",
    "        self.bert = bert\n",
    "    def forward(self, x):\n",
    "        x = self.bert(x)\n",
    "        return x.logits\n",
    "\n",
    "model = BertClassifier(bert).to(\"cuda\")"
   ]
  },
  {
   "cell_type": "code",
   "execution_count": 13,
   "metadata": {},
   "outputs": [],
   "source": [
    "n_0 = (train_df[\"target\"] == 0).sum()\n",
    "n_1 = (train_df[\"target\"] == 1).sum()\n",
    "n = n_0 + n_1"
   ]
  },
  {
   "cell_type": "code",
   "execution_count": 14,
   "metadata": {},
   "outputs": [
    {
     "data": {
      "text/html": [],
      "text/plain": [
       "<IPython.core.display.HTML object>"
      ]
     },
     "metadata": {},
     "output_type": "display_data"
    },
    {
     "data": {
      "text/plain": [
       "SuggestedLRs(lr_min=0.00014454397605732084, lr_steep=9.120108734350652e-05)"
      ]
     },
     "execution_count": 14,
     "metadata": {},
     "output_type": "execute_result"
    },
    {
     "data": {
      "image/png": "[encoded data removed]",
      "text/plain": [
       "<Figure size 432x288 with 1 Axes>"
      ]
     },
     "metadata": {
      "needs_background": "light"
     },
     "output_type": "display_data"
    }
   ],
   "source": [
    "class_weights = tensor([n / (n+n_0), n / (n+n_1)]).to('cuda')\n",
    "learn = Learner(dls, model, \n",
    "                loss_func=nn.CrossEntropyLoss(weight=class_weights), \n",
    "                metrics=[accuracy, F1Score()]).to_fp16()\n",
    "learn.lr_find()"
   ]
  },
  {
   "cell_type": "code",
   "execution_count": 15,
   "metadata": {},
   "outputs": [
    {
     "data": {
      "text/html": [
       "<table border=\"1\" class=\"dataframe\">\n",
       "  <thead>\n",
       "    <tr style=\"text-align: left;\">\n",
       "      <th>epoch</th>\n",
       "      <th>train_loss</th>\n",
       "      <th>valid_loss</th>\n",
       "      <th>accuracy</th>\n",
       "      <th>f1_score</th>\n",
       "      <th>time</th>\n",
       "    </tr>\n",
       "  </thead>\n",
       "  <tbody>\n",
       "    <tr>\n",
       "      <td>0</td>\n",
       "      <td>0.126460</td>\n",
       "      <td>0.127293</td>\n",
       "      <td>0.953300</td>\n",
       "      <td>0.688776</td>\n",
       "      <td>1:06:13</td>\n",
       "    </tr>\n",
       "    <tr>\n",
       "      <td>1</td>\n",
       "      <td>0.084351</td>\n",
       "      <td>0.122348</td>\n",
       "      <td>0.962027</td>\n",
       "      <td>0.715270</td>\n",
       "      <td>1:06:21</td>\n",
       "    </tr>\n",
       "  </tbody>\n",
       "</table>"
      ],
      "text/plain": [
       "<IPython.core.display.HTML object>"
      ]
     },
     "metadata": {},
     "output_type": "display_data"
    }
   ],
   "source": [
    "learn.fit_one_cycle(2, lr_max=5e-5)"
   ]
  },
  {
   "cell_type": "markdown",
   "metadata": {},
   "source": [
    "# Find the optimal threshold for f1 score"
   ]
  },
  {
   "cell_type": "code",
   "execution_count": 18,
   "metadata": {},
   "outputs": [],
   "source": [
    "from sklearn.metrics import f1_score"
   ]
  },
  {
   "cell_type": "code",
   "execution_count": 16,
   "metadata": {},
   "outputs": [
    {
     "data": {
      "text/html": [],
      "text/plain": [
       "<IPython.core.display.HTML object>"
      ]
     },
     "metadata": {},
     "output_type": "display_data"
    }
   ],
   "source": [
    "preds, targs = learn.get_preds()"
   ]
  },
  {
   "cell_type": "code",
   "execution_count": 19,
   "metadata": {},
   "outputs": [
    {
     "name": "stdout",
     "output_type": "stream",
     "text": [
      "threshold:0.3000 - f1:0.7047\n",
      "threshold:0.3082 - f1:0.7056\n",
      "threshold:0.3163 - f1:0.7050\n",
      "threshold:0.3245 - f1:0.7055\n",
      "threshold:0.3327 - f1:0.7070\n",
      "threshold:0.3408 - f1:0.7068\n",
      "threshold:0.3490 - f1:0.7084\n",
      "threshold:0.3571 - f1:0.7107\n",
      "threshold:0.3653 - f1:0.7105\n",
      "threshold:0.3735 - f1:0.7093\n",
      "threshold:0.3816 - f1:0.7108\n",
      "threshold:0.3898 - f1:0.7107\n",
      "threshold:0.3980 - f1:0.7116\n",
      "threshold:0.4061 - f1:0.7119\n",
      "threshold:0.4143 - f1:0.7129\n",
      "threshold:0.4224 - f1:0.7134\n",
      "threshold:0.4306 - f1:0.7125\n",
      "threshold:0.4388 - f1:0.7124\n",
      "threshold:0.4469 - f1:0.7114\n",
      "threshold:0.4551 - f1:0.7127\n",
      "threshold:0.4633 - f1:0.7126\n",
      "threshold:0.4714 - f1:0.7139\n",
      "threshold:0.4796 - f1:0.7164\n",
      "threshold:0.4878 - f1:0.7151\n",
      "threshold:0.4959 - f1:0.7160\n",
      "threshold:0.5041 - f1:0.7145\n",
      "threshold:0.5122 - f1:0.7125\n",
      "threshold:0.5204 - f1:0.7111\n",
      "threshold:0.5286 - f1:0.7112\n",
      "threshold:0.5367 - f1:0.7138\n",
      "threshold:0.5449 - f1:0.7139\n",
      "threshold:0.5531 - f1:0.7137\n",
      "threshold:0.5612 - f1:0.7159\n",
      "threshold:0.5694 - f1:0.7172\n",
      "threshold:0.5776 - f1:0.7158\n",
      "threshold:0.5857 - f1:0.7128\n",
      "threshold:0.5939 - f1:0.7151\n",
      "threshold:0.6020 - f1:0.7158\n",
      "threshold:0.6102 - f1:0.7158\n",
      "threshold:0.6184 - f1:0.7148\n",
      "threshold:0.6265 - f1:0.7115\n",
      "threshold:0.6347 - f1:0.7105\n",
      "threshold:0.6429 - f1:0.7086\n",
      "threshold:0.6510 - f1:0.7075\n",
      "threshold:0.6592 - f1:0.7082\n",
      "threshold:0.6673 - f1:0.7104\n",
      "threshold:0.6755 - f1:0.7094\n",
      "threshold:0.6837 - f1:0.7093\n",
      "threshold:0.6918 - f1:0.7078\n",
      "threshold:0.7000 - f1:0.7072\n"
     ]
    }
   ],
   "source": [
    "thresholds = np.linspace(0.3, 0.7, 50)\n",
    "for threshold in thresholds:\n",
    "    f1 = f1_score(targs, F.softmax(preds, dim=1)[:, 1]>threshold)\n",
    "    print(f\"threshold:{threshold:.4f} - f1:{f1:.4f}\")"
   ]
  },
  {
   "cell_type": "markdown",
   "metadata": {},
   "source": [
    "# Make prediction on test set"
   ]
  },
  {
   "cell_type": "code",
   "execution_count": 20,
   "metadata": {},
   "outputs": [],
   "source": [
    "test_tensor = tokenizer(list(test_df[\"question_text\"]),\n",
    "                        padding=\"max_length\",\n",
    "                        truncation=True,\n",
    "                        max_length=30,\n",
    "                        return_tensors=\"pt\")[\"input_ids\"]"
   ]
  },
  {
   "cell_type": "code",
   "execution_count": 21,
   "metadata": {},
   "outputs": [],
   "source": [
    "class TestDS:\n",
    "    def __init__(self, tensors):\n",
    "        self.tensors = tensors\n",
    "    \n",
    "    def __len__(self):\n",
    "        return len(self.tensors)\n",
    "    \n",
    "    def __getitem__(self, idx):\n",
    "        t = self.tensors[idx]\n",
    "        return t, tensor(0)\n",
    "\n",
    "test_dl = DataLoader(TestDS(test_tensor), bs=128)"
   ]
  },
  {
   "cell_type": "code",
   "execution_count": 22,
   "metadata": {},
   "outputs": [
    {
     "data": {
      "text/html": [],
      "text/plain": [
       "<IPython.core.display.HTML object>"
      ]
     },
     "metadata": {},
     "output_type": "display_data"
    }
   ],
   "source": [
    "test_preds = learn.get_preds(dl=test_dl)"
   ]
  },
  {
   "cell_type": "code",
   "execution_count": 23,
   "metadata": {},
   "outputs": [],
   "source": [
    "prediction = (F.softmax(test_preds[0], dim=1)[:, 1]>0.48).int()\n",
    "sub = pd.read_csv(path + \"sample_submission.csv\")\n",
    "sub[\"prediction\"] = prediction\n",
    "sub.to_csv(\"submission.csv\", index=False)"
   ]
  }
 ],
 "metadata": {
  "kernelspec": {
   "display_name": "Python 3",
   "language": "python",
   "name": "python3"
  },
  "language_info": {
   "codemirror_mode": {
    "name": "ipython",
    "version": 3
   },
   "file_extension": ".py",
   "mimetype": "text/x-python",
   "name": "python",
   "nbconvert_exporter": "python",
   "pygments_lexer": "ipython3",
   "version": "3.8.5"
  }
 },
 "nbformat": 4,
 "nbformat_minor": 4
}

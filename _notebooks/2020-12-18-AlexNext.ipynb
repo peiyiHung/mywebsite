{
 "cells": [
  {
   "cell_type": "markdown",
   "id": "terminal-helena",
   "metadata": {},
   "source": [
    "# \"[DL] AlexNet\"\n",
    "> \"An introduction to AlexNet\"\n",
    "\n",
    "- toc:true\n",
    "- branch: master\n",
    "- badges: true\n",
    "- comments: true\n",
    "- author: Peiyi Hung\n",
    "- categories: [category, learning]\n",
    "- image:"
   ]
  },
  {
   "cell_type": "code",
   "execution_count": null,
   "id": "ahead-italic",
   "metadata": {
    "id": "nOTl2Ikrt8PL"
   },
   "outputs": [],
   "source": [
    "#!pip install --upgrade fastai"
   ]
  },
  {
   "cell_type": "markdown",
   "id": "affected-method",
   "metadata": {},
   "source": [
    "# Introduction"
   ]
  },
  {
   "cell_type": "code",
   "execution_count": 1,
   "id": "cheap-blair",
   "metadata": {
    "executionInfo": {
     "elapsed": 1694,
     "status": "ok",
     "timestamp": 1615022643145,
     "user": {
      "displayName": "Peiyi Hung",
      "photoUrl": "",
      "userId": "11336533706330979787"
     },
     "user_tz": -480
    },
    "id": "proprietary-fever"
   },
   "outputs": [],
   "source": [
    "from fastai.vision.all import *"
   ]
  },
  {
   "cell_type": "markdown",
   "id": "enabling-vanilla",
   "metadata": {},
   "source": [
    "# AlexNet"
   ]
  },
  {
   "cell_type": "markdown",
   "id": "allied-excess",
   "metadata": {},
   "source": [
    "## Characteristics of AlexNet"
   ]
  },
  {
   "cell_type": "markdown",
   "id": "narrative-chicken",
   "metadata": {},
   "source": [
    "* ReLU\n",
    "* Pooling\n",
    "* GPU\n",
    "* dropout\n",
    "* l2 regularize"
   ]
  },
  {
   "cell_type": "markdown",
   "id": "universal-domain",
   "metadata": {
    "id": "dynamic-preserve"
   },
   "source": [
    "## Structure of AlexNet"
   ]
  },
  {
   "cell_type": "code",
   "execution_count": 2,
   "id": "amino-webmaster",
   "metadata": {
    "executionInfo": {
     "elapsed": 1013,
     "status": "ok",
     "timestamp": 1615022718918,
     "user": {
      "displayName": "Peiyi Hung",
      "photoUrl": "",
      "userId": "11336533706330979787"
     },
     "user_tz": -480
    },
    "id": "practical-smoke"
   },
   "outputs": [],
   "source": [
    "alexnet = nn.Sequential(\n",
    "    ### conv1\n",
    "    nn.Conv2d(3, 96, kernel_size=11, stride=4),              # 55x55\n",
    "    nn.ReLU(),\n",
    "    nn.BatchNorm2d(96),\n",
    "    nn.MaxPool2d(kernel_size=3, stride=2),                   # 27x27\n",
    "    ### conv2\n",
    "    nn.Conv2d(96, 256, kernel_size=5, stride=1, padding=2),  # 27x27\n",
    "    nn.ReLU(),\n",
    "    nn.BatchNorm2d(256),\n",
    "    nn.MaxPool2d(kernel_size=3, stride=2),                   # 13x13\n",
    "    ### conv3\n",
    "    nn.Conv2d(256, 384, kernel_size=3, stride=1, padding=1), # 13x13\n",
    "    nn.ReLU(),\n",
    "    ### conv4\n",
    "    nn.Conv2d(384, 384, kernel_size=3, stride=1, padding=1), # 13x13\n",
    "    nn.ReLU(),\n",
    "    ### conv5\n",
    "    nn.Conv2d(384, 256, kernel_size=3, stride=1, padding=1), # 13x13\n",
    "    nn.ReLU(),\n",
    "    nn.MaxPool2d(kernel_size=3, stride=2, padding=0),        # 6x6\n",
    "    ### fully connected\n",
    "    nn.Flatten(),                                            # 6x6x256=9216\n",
    "    nn.Linear(9216, 4096),\n",
    "    nn.Dropout(p=0.5),\n",
    "    nn.Linear(4096, 4096),\n",
    "    nn.Dropout(p=0.5),\n",
    "    nn.Linear(4096, 10)                                      # 10 classes\n",
    ")"
   ]
  },
  {
   "cell_type": "code",
   "execution_count": 3,
   "id": "polyphonic-address",
   "metadata": {
    "colab": {
     "base_uri": "https://localhost:8080/"
    },
    "executionInfo": {
     "elapsed": 460,
     "status": "ok",
     "timestamp": 1615022719847,
     "user": {
      "displayName": "Peiyi Hung",
      "photoUrl": "",
      "userId": "11336533706330979787"
     },
     "user_tz": -480
    },
    "id": "defined-canyon",
    "outputId": "857e6cdf-5a75-42bf-d471-5f175565d517"
   },
   "outputs": [
    {
     "data": {
      "text/plain": [
       "torch.Size([1, 3, 227, 227])"
      ]
     },
     "execution_count": 3,
     "metadata": {},
     "output_type": "execute_result"
    }
   ],
   "source": [
    "sample = torch.randn(3, 227, 227).unsqueeze(0)\n",
    "sample.shape # NxCxHxW"
   ]
  },
  {
   "cell_type": "code",
   "execution_count": 4,
   "id": "unusual-movement",
   "metadata": {
    "colab": {
     "base_uri": "https://localhost:8080/"
    },
    "executionInfo": {
     "elapsed": 705,
     "status": "ok",
     "timestamp": 1615022721845,
     "user": {
      "displayName": "Peiyi Hung",
      "photoUrl": "",
      "userId": "11336533706330979787"
     },
     "user_tz": -480
    },
    "id": "unlike-retrieval",
    "outputId": "5ca798a6-680f-4ab8-b31f-e4994d6254f0"
   },
   "outputs": [
    {
     "data": {
      "text/plain": [
       "torch.Size([1, 10])"
      ]
     },
     "execution_count": 4,
     "metadata": {},
     "output_type": "execute_result"
    }
   ],
   "source": [
    "alexnet(sample).shape "
   ]
  },
  {
   "cell_type": "markdown",
   "id": "comparative-puppy",
   "metadata": {},
   "source": [
    "# Data"
   ]
  },
  {
   "cell_type": "code",
   "execution_count": null,
   "id": "revolutionary-degree",
   "metadata": {},
   "outputs": [],
   "source": [
    "path = untar_data(URLs.IMAGENETTE)\n",
    "\n",
    "dblock = DataBlock(blocks=(ImageBlock, CategoryBlock),\n",
    "                   get_items=get_image_files,\n",
    "                   get_y=parent_label,\n",
    "                   splitter=RandomSplitter(),\n",
    "                   item_tfms=Resize(227),\n",
    "                   batch_tfms=aug_transforms())\n",
    "dls = dblock.dataloaders(path, bs=128)\n",
    "\n",
    "dls.show_batch()"
   ]
  },
  {
   "cell_type": "markdown",
   "id": "dominican-population",
   "metadata": {},
   "source": [
    "# Train our AlexNet"
   ]
  },
  {
   "cell_type": "code",
   "execution_count": 16,
   "id": "pending-symbol",
   "metadata": {
    "executionInfo": {
     "elapsed": 546,
     "status": "ok",
     "timestamp": 1615023704142,
     "user": {
      "displayName": "Peiyi Hung",
      "photoUrl": "",
      "userId": "11336533706330979787"
     },
     "user_tz": -480
    },
    "id": "numerous-tongue"
   },
   "outputs": [],
   "source": [
    "learn = Learner(dls, alexnet, metrics=accuracy)"
   ]
  },
  {
   "cell_type": "code",
   "execution_count": 17,
   "id": "discrete-evidence",
   "metadata": {
    "colab": {
     "base_uri": "https://localhost:8080/",
     "height": 300
    },
    "executionInfo": {
     "elapsed": 46653,
     "status": "ok",
     "timestamp": 1615023750660,
     "user": {
      "displayName": "Peiyi Hung",
      "photoUrl": "",
      "userId": "11336533706330979787"
     },
     "user_tz": -480
    },
    "id": "ordered-klein",
    "outputId": "8f63f828-56f6-41f0-9f21-07ac7eb65fab"
   },
   "outputs": [
    {
     "data": {
      "text/html": [],
      "text/plain": [
       "<IPython.core.display.HTML object>"
      ]
     },
     "metadata": {
      "tags": []
     },
     "output_type": "display_data"
    },
    {
     "data": {
      "text/plain": [
       "SuggestedLRs(lr_min=2.2908675418875645e-07, lr_steep=6.309573450380412e-07)"
      ]
     },
     "execution_count": 17,
     "metadata": {
      "tags": []
     },
     "output_type": "execute_result"
    },
    {
     "data": {
      "image/png": "[encoded data removed]",
      "text/plain": [
       "<Figure size 432x288 with 1 Axes>"
      ]
     },
     "metadata": {
      "needs_background": "light",
      "tags": []
     },
     "output_type": "display_data"
    }
   ],
   "source": [
    "learn.lr_find()"
   ]
  },
  {
   "cell_type": "code",
   "execution_count": 18,
   "id": "moderate-earth",
   "metadata": {
    "colab": {
     "base_uri": "https://localhost:8080/",
     "height": 669
    },
    "executionInfo": {
     "elapsed": 1794171,
     "status": "ok",
     "timestamp": 1615025549920,
     "user": {
      "displayName": "Peiyi Hung",
      "photoUrl": "",
      "userId": "11336533706330979787"
     },
     "user_tz": -480
    },
    "id": "k4iXV2lPu1NS",
    "outputId": "b89ec43f-79c6-45ec-abc0-b6fa107bcbc7"
   },
   "outputs": [
    {
     "data": {
      "text/html": [
       "<table border=\"1\" class=\"dataframe\">\n",
       "  <thead>\n",
       "    <tr style=\"text-align: left;\">\n",
       "      <th>epoch</th>\n",
       "      <th>train_loss</th>\n",
       "      <th>valid_loss</th>\n",
       "      <th>accuracy</th>\n",
       "      <th>time</th>\n",
       "    </tr>\n",
       "  </thead>\n",
       "  <tbody>\n",
       "    <tr>\n",
       "      <td>0</td>\n",
       "      <td>0.677220</td>\n",
       "      <td>0.730224</td>\n",
       "      <td>0.774459</td>\n",
       "      <td>01:28</td>\n",
       "    </tr>\n",
       "    <tr>\n",
       "      <td>1</td>\n",
       "      <td>0.689051</td>\n",
       "      <td>0.777071</td>\n",
       "      <td>0.763630</td>\n",
       "      <td>01:28</td>\n",
       "    </tr>\n",
       "    <tr>\n",
       "      <td>2</td>\n",
       "      <td>0.756147</td>\n",
       "      <td>0.783831</td>\n",
       "      <td>0.756535</td>\n",
       "      <td>01:29</td>\n",
       "    </tr>\n",
       "    <tr>\n",
       "      <td>3</td>\n",
       "      <td>0.799501</td>\n",
       "      <td>1.047189</td>\n",
       "      <td>0.699403</td>\n",
       "      <td>01:28</td>\n",
       "    </tr>\n",
       "    <tr>\n",
       "      <td>4</td>\n",
       "      <td>0.853927</td>\n",
       "      <td>0.824585</td>\n",
       "      <td>0.753547</td>\n",
       "      <td>01:29</td>\n",
       "    </tr>\n",
       "    <tr>\n",
       "      <td>5</td>\n",
       "      <td>0.842448</td>\n",
       "      <td>0.923859</td>\n",
       "      <td>0.722928</td>\n",
       "      <td>01:30</td>\n",
       "    </tr>\n",
       "    <tr>\n",
       "      <td>6</td>\n",
       "      <td>0.793850</td>\n",
       "      <td>1.057455</td>\n",
       "      <td>0.701643</td>\n",
       "      <td>01:31</td>\n",
       "    </tr>\n",
       "    <tr>\n",
       "      <td>7</td>\n",
       "      <td>0.739824</td>\n",
       "      <td>0.819447</td>\n",
       "      <td>0.752054</td>\n",
       "      <td>01:30</td>\n",
       "    </tr>\n",
       "    <tr>\n",
       "      <td>8</td>\n",
       "      <td>0.723428</td>\n",
       "      <td>0.775073</td>\n",
       "      <td>0.768111</td>\n",
       "      <td>01:30</td>\n",
       "    </tr>\n",
       "    <tr>\n",
       "      <td>9</td>\n",
       "      <td>0.654886</td>\n",
       "      <td>0.763282</td>\n",
       "      <td>0.779686</td>\n",
       "      <td>01:30</td>\n",
       "    </tr>\n",
       "    <tr>\n",
       "      <td>10</td>\n",
       "      <td>0.614429</td>\n",
       "      <td>0.709696</td>\n",
       "      <td>0.803211</td>\n",
       "      <td>01:29</td>\n",
       "    </tr>\n",
       "    <tr>\n",
       "      <td>11</td>\n",
       "      <td>0.569352</td>\n",
       "      <td>0.694678</td>\n",
       "      <td>0.810680</td>\n",
       "      <td>01:30</td>\n",
       "    </tr>\n",
       "    <tr>\n",
       "      <td>12</td>\n",
       "      <td>0.514639</td>\n",
       "      <td>0.704159</td>\n",
       "      <td>0.805825</td>\n",
       "      <td>01:29</td>\n",
       "    </tr>\n",
       "    <tr>\n",
       "      <td>13</td>\n",
       "      <td>0.472782</td>\n",
       "      <td>0.672880</td>\n",
       "      <td>0.798357</td>\n",
       "      <td>01:30</td>\n",
       "    </tr>\n",
       "    <tr>\n",
       "      <td>14</td>\n",
       "      <td>0.430976</td>\n",
       "      <td>0.650535</td>\n",
       "      <td>0.812547</td>\n",
       "      <td>01:30</td>\n",
       "    </tr>\n",
       "    <tr>\n",
       "      <td>15</td>\n",
       "      <td>0.401297</td>\n",
       "      <td>0.636800</td>\n",
       "      <td>0.823376</td>\n",
       "      <td>01:29</td>\n",
       "    </tr>\n",
       "    <tr>\n",
       "      <td>16</td>\n",
       "      <td>0.376151</td>\n",
       "      <td>0.630422</td>\n",
       "      <td>0.825990</td>\n",
       "      <td>01:28</td>\n",
       "    </tr>\n",
       "    <tr>\n",
       "      <td>17</td>\n",
       "      <td>0.354457</td>\n",
       "      <td>0.619451</td>\n",
       "      <td>0.826736</td>\n",
       "      <td>01:28</td>\n",
       "    </tr>\n",
       "    <tr>\n",
       "      <td>18</td>\n",
       "      <td>0.347722</td>\n",
       "      <td>0.618563</td>\n",
       "      <td>0.826736</td>\n",
       "      <td>01:28</td>\n",
       "    </tr>\n",
       "    <tr>\n",
       "      <td>19</td>\n",
       "      <td>0.339950</td>\n",
       "      <td>0.615162</td>\n",
       "      <td>0.825616</td>\n",
       "      <td>01:29</td>\n",
       "    </tr>\n",
       "  </tbody>\n",
       "</table>"
      ],
      "text/plain": [
       "<IPython.core.display.HTML object>"
      ]
     },
     "metadata": {
      "tags": []
     },
     "output_type": "display_data"
    }
   ],
   "source": [
    "learn.fit_one_cycle(20, lr_max=5e-5, wd=0.0005)"
   ]
  },
  {
   "cell_type": "markdown",
   "id": "tested-intelligence",
   "metadata": {
    "id": "x4dFo4eiVVo-"
   },
   "source": [
    "# What if we have images with size other than 227x227?"
   ]
  },
  {
   "cell_type": "code",
   "execution_count": 11,
   "id": "related-linux",
   "metadata": {
    "id": "T0ZEQN23ViCK"
   },
   "outputs": [],
   "source": [
    "adapted_alexnet = nn.Sequential(\n",
    "    ### conv1\n",
    "    nn.Conv2d(3, 96, kernel_size=11, stride=4),           \n",
    "    nn.ReLU(),\n",
    "    nn.BatchNorm2d(96),\n",
    "    nn.MaxPool2d(kernel_size=3, stride=2),                 \n",
    "    ### conv2\n",
    "    nn.Conv2d(96, 256, kernel_size=5, stride=1, padding=2),  \n",
    "    nn.ReLU(),\n",
    "    nn.BatchNorm2d(256),\n",
    "    nn.MaxPool2d(kernel_size=3, stride=2),                \n",
    "    ### conv3\n",
    "    nn.Conv2d(256, 384, kernel_size=3, stride=1, padding=1), \n",
    "    nn.ReLU(),\n",
    "    ### conv4\n",
    "    nn.Conv2d(384, 384, kernel_size=3, stride=1, padding=1), \n",
    "    nn.ReLU(),\n",
    "    ### conv5\n",
    "    nn.Conv2d(384, 256, kernel_size=3, stride=1, padding=1), \n",
    "    nn.ReLU(),\n",
    "    nn.MaxPool2d(kernel_size=3, stride=2, padding=0),       \n",
    "    ### adaptive average pooling\n",
    "    nn.AdaptiveAvgPool2d((6,6)),\n",
    "    ### fully connected\n",
    "    nn.Flatten(),                                            \n",
    "    nn.Linear(9216, 4096),\n",
    "    nn.Dropout(p=0.5),\n",
    "    nn.Linear(4096, 4096),\n",
    "    nn.Dropout(p=0.5),\n",
    "    nn.Linear(4096, 10)   \n",
    ")"
   ]
  },
  {
   "cell_type": "code",
   "execution_count": 12,
   "id": "geographic-logging",
   "metadata": {},
   "outputs": [
    {
     "data": {
      "text/plain": [
       "torch.Size([1, 3, 128, 128])"
      ]
     },
     "execution_count": 12,
     "metadata": {},
     "output_type": "execute_result"
    }
   ],
   "source": [
    "sample2 = torch.randn(3, 128, 128).unsqueeze(0)\n",
    "sample2.shape "
   ]
  },
  {
   "cell_type": "code",
   "execution_count": 13,
   "id": "enabling-section",
   "metadata": {},
   "outputs": [
    {
     "data": {
      "text/plain": [
       "torch.Size([1, 10])"
      ]
     },
     "execution_count": 13,
     "metadata": {},
     "output_type": "execute_result"
    }
   ],
   "source": [
    "adapted_alexnet(sample2).shape "
   ]
  },
  {
   "cell_type": "markdown",
   "id": "subsequent-glance",
   "metadata": {},
   "source": [
    "# Reference"
   ]
  },
  {
   "cell_type": "code",
   "execution_count": null,
   "id": "sublime-parish",
   "metadata": {},
   "outputs": [],
   "source": []
  }
 ],
 "metadata": {
  "accelerator": "GPU",
  "colab": {
   "collapsed_sections": [],
   "name": "AlexNext.ipynb",
   "provenance": []
  },
  "kernelspec": {
   "display_name": "Python 3",
   "language": "python",
   "name": "python3"
  },
  "language_info": {
   "codemirror_mode": {
    "name": "ipython",
    "version": 3
   },
   "file_extension": ".py",
   "mimetype": "text/x-python",
   "name": "python",
   "nbconvert_exporter": "python",
   "pygments_lexer": "ipython3",
   "version": "3.8.5"
  }
 },
 "nbformat": 4,
 "nbformat_minor": 5
}

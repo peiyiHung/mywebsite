{
 "cells": [
  {
   "cell_type": "markdown",
   "metadata": {
    "id": "VRZLkHbVs6TG"
   },
   "source": [
    "# \"Building a Language Model for Chinese Numbers using LSTM and GRU\"\n",
    "> \"Make a dataset of Chinese numbers and train language models for it with LSTM and GRU which are built from scratch.\"\n",
    "- toc:true\n",
    "- branch: master\n",
    "- badges: true\n",
    "- comments: true\n",
    "- author: Peiyi Hung\n",
    "- categories: [category, project, RNN, fastai, pytorch]\n",
    "- image: \"images/vanillaRNN.png\""
   ]
  },
  {
   "cell_type": "markdown",
   "metadata": {},
   "source": [
    "# Introduction"
   ]
  },
  {
   "cell_type": "markdown",
   "metadata": {},
   "source": [
    "In order to better understand what are a language model and recurrent neural networks (RNN), I create a simple dataset on Chinese numbers and train various RNNs to build a language model of Chinese numbers in this project. The dataset contains Traditional Chinese characters of numbers from 0 to 9999 and I train models to predict the next Chinese number in the dataset.  Most models are built by common modules in Pytorch instead of off-the-shelf Pytorch RNN moduels. For example, I make LSTM cells using only `nn.Linear` rather than `nn.LSTM`. Only the last model are created using Pytorch's `nn.LSTM` and, by adding regularization techniques, it yields an accuracy of 96%. This project is inspired by the chapter 12 of [the fastai book](https://github.com/fastai/fastbook) in which the author creates a dataset of English numbers and trains language models."
   ]
  },
  {
   "cell_type": "markdown",
   "metadata": {
    "id": "04lH_Ce1s6TM"
   },
   "source": [
    "# Generate data"
   ]
  },
  {
   "cell_type": "markdown",
   "metadata": {},
   "source": [
    "Here's how I make this simple model of Chinese numbers:"
   ]
  },
  {
   "cell_type": "code",
   "execution_count": 1,
   "metadata": {
    "executionInfo": {
     "elapsed": 1797,
     "status": "ok",
     "timestamp": 1614902776141,
     "user": {
      "displayName": "Peiyi Hung",
      "photoUrl": "",
      "userId": "11336533706330979787"
     },
     "user_tz": -480
    },
    "id": "NWBk8ot2s6TM"
   },
   "outputs": [],
   "source": [
    "from fastai.text.all import *\n",
    "\n",
    "# generate numbers from 0 to 9\n",
    "zero_to_nine = [\"零\", \"一\", \"二\", \"三\", \"四\", \"五\", \"六\", \"七\", \"八\", \"九\"]\n",
    "num = zero_to_nine.copy()\n",
    "\n",
    "# 10 to 19\n",
    "ten_to_nineteen = []\n",
    "for i in zero_to_nine:\n",
    "    if i == \"零\":\n",
    "        add = \"\"\n",
    "    else:\n",
    "        add = i\n",
    "    ten_to_nineteen.append(\"十\" + add)\n",
    "num += ten_to_nineteen\n",
    "\n",
    "# 20 to 99\n",
    "ten_to_hundred = [i+j for i in zero_to_nine[2:] for j in ten_to_nineteen]\n",
    "num += ten_to_hundred\n",
    "\n",
    "# 100 to 999\n",
    "hundred_to_thousand = []\n",
    "for i in zero_to_nine[1:]:\n",
    "    hundred_to_thousand.append(i + \"百\")\n",
    "    for g in zero_to_nine[1:]:\n",
    "        hundred_to_thousand.append(i + \"百\" + \"零\" + g)\n",
    "    for j in ten_to_nineteen:\n",
    "        hundred_to_thousand.append(i + \"百\" + \"一\" + j)\n",
    "    for k in ten_to_hundred:\n",
    "        hundred_to_thousand.append(i + \"百\" + k)\n",
    "num += hundred_to_thousand\n",
    "\n",
    "# 999 to 9999\n",
    "thousand_tenthousand = []\n",
    "for i in zero_to_nine[1:]:\n",
    "    thousand_tenthousand.append(i + \"千\")\n",
    "    for g in zero_to_nine[1:]:\n",
    "        thousand_tenthousand.append(i + \"千\" + \"零\" + g)\n",
    "    for j in ten_to_nineteen:\n",
    "        thousand_tenthousand.append(i + \"千\" + \"零\"+ \"一\" + j)\n",
    "    for k in ten_to_hundred:\n",
    "        thousand_tenthousand.append(i + \"千\" + \"零\" + k)\n",
    "    for o in hundred_to_thousand:\n",
    "        thousand_tenthousand.append(i + \"千\" + o)\n",
    "\n",
    "num += thousand_tenthousand"
   ]
  },
  {
   "cell_type": "markdown",
   "metadata": {},
   "source": [
    "Let's take a look at the dataset:"
   ]
  },
  {
   "cell_type": "code",
   "execution_count": 2,
   "metadata": {
    "colab": {
     "base_uri": "https://localhost:8080/"
    },
    "executionInfo": {
     "elapsed": 586,
     "status": "ok",
     "timestamp": 1614902780592,
     "user": {
      "displayName": "Peiyi Hung",
      "photoUrl": "",
      "userId": "11336533706330979787"
     },
     "user_tz": -480
    },
    "id": "bH84q-j8s6TN",
    "outputId": "ebf82e99-d010-4aa0-d97c-33c2a3be277d"
   },
   "outputs": [
    {
     "data": {
      "text/plain": [
       "10000"
      ]
     },
     "execution_count": 2,
     "metadata": {},
     "output_type": "execute_result"
    }
   ],
   "source": [
    "len(num)"
   ]
  },
  {
   "cell_type": "code",
   "execution_count": 3,
   "metadata": {
    "colab": {
     "base_uri": "https://localhost:8080/"
    },
    "executionInfo": {
     "elapsed": 449,
     "status": "ok",
     "timestamp": 1614902781749,
     "user": {
      "displayName": "Peiyi Hung",
      "photoUrl": "",
      "userId": "11336533706330979787"
     },
     "user_tz": -480
    },
    "id": "OIVen87Vs6TO",
    "outputId": "43d9e862-39c8-4924-a4c6-c07f5a515241"
   },
   "outputs": [
    {
     "data": {
      "text/plain": [
       "['一百',\n",
       " '一百零一',\n",
       " '一百零二',\n",
       " '一百零三',\n",
       " '一百零四',\n",
       " '一百零五',\n",
       " '一百零六',\n",
       " '一百零七',\n",
       " '一百零八',\n",
       " '一百零九',\n",
       " '一百一十']"
      ]
     },
     "execution_count": 3,
     "metadata": {},
     "output_type": "execute_result"
    }
   ],
   "source": [
    "num[100:111]"
   ]
  },
  {
   "cell_type": "markdown",
   "metadata": {},
   "source": [
    "The numbers in the dataset are from 0 to 9999, so there are 10000 data points in it. If you want to save this dataset, you can uncomment and execute the following codes:"
   ]
  },
  {
   "cell_type": "code",
   "execution_count": 4,
   "metadata": {
    "id": "l1QMy2CVs6TO"
   },
   "outputs": [],
   "source": [
    "# # write into a file, \"chinese_numers.txt\"\n",
    "# with open(\"chinese_numbers.txt\", \"w\") as text_file:\n",
    "#     text_file.write(\"\\n\".join(num))"
   ]
  },
  {
   "cell_type": "markdown",
   "metadata": {
    "id": "H1E0Nqfks6TO"
   },
   "source": [
    "# Tokenization and Numericalization"
   ]
  },
  {
   "cell_type": "markdown",
   "metadata": {},
   "source": [
    "Before we delve into modeling, we should first make our dataset understandable by the model. That is, we should tokenize the data and numericalize the tokens. "
   ]
  },
  {
   "cell_type": "markdown",
   "metadata": {},
   "source": [
    "Tokenization is to transfer each Chinese character into a token."
   ]
  },
  {
   "cell_type": "code",
   "execution_count": 5,
   "metadata": {
    "colab": {
     "base_uri": "https://localhost:8080/"
    },
    "executionInfo": {
     "elapsed": 614,
     "status": "ok",
     "timestamp": 1614902790202,
     "user": {
      "displayName": "Peiyi Hung",
      "photoUrl": "",
      "userId": "11336533706330979787"
     },
     "user_tz": -480
    },
    "id": "7k3-msd2s6TO",
    "outputId": "e92d6bea-d361-489c-8596-b8c9c101dfba"
   },
   "outputs": [
    {
     "data": {
      "text/plain": [
       "(#74691) ['零','.','一','.','二','.','三','.','四','.'...]"
      ]
     },
     "execution_count": 5,
     "metadata": {},
     "output_type": "execute_result"
    }
   ],
   "source": [
    "tokens = L(n for n in \".\".join(num) if n)\n",
    "tokens"
   ]
  },
  {
   "cell_type": "markdown",
   "metadata": {},
   "source": [
    "`vocab` is the collection of unique tokens."
   ]
  },
  {
   "cell_type": "code",
   "execution_count": 6,
   "metadata": {
    "executionInfo": {
     "elapsed": 452,
     "status": "ok",
     "timestamp": 1614902791370,
     "user": {
      "displayName": "Peiyi Hung",
      "photoUrl": "",
      "userId": "11336533706330979787"
     },
     "user_tz": -480
    },
    "id": "drooD311s6TP"
   },
   "outputs": [],
   "source": [
    "vocab = L(*tokens).unique()"
   ]
  },
  {
   "cell_type": "markdown",
   "metadata": {},
   "source": [
    "Numericalization is to map a token to a non-negative number so as to be taken by the `nn.Embedding` layer of RNNs."
   ]
  },
  {
   "cell_type": "code",
   "execution_count": 7,
   "metadata": {
    "colab": {
     "base_uri": "https://localhost:8080/"
    },
    "executionInfo": {
     "elapsed": 670,
     "status": "ok",
     "timestamp": 1614902793238,
     "user": {
      "displayName": "Peiyi Hung",
      "photoUrl": "",
      "userId": "11336533706330979787"
     },
     "user_tz": -480
    },
    "id": "xp4VuPu3s6TP",
    "outputId": "0602d094-fb0e-4bb5-eed3-62e0ddbe1349"
   },
   "outputs": [
    {
     "data": {
      "text/plain": [
       "(#74691) [0,1,2,1,3,1,4,1,5,1...]"
      ]
     },
     "execution_count": 7,
     "metadata": {},
     "output_type": "execute_result"
    }
   ],
   "source": [
    "word2idx = {w:i for i,w in enumerate(vocab)}\n",
    "nums = L(word2idx[i] for i in tokens)\n",
    "nums"
   ]
  },
  {
   "cell_type": "markdown",
   "metadata": {
    "id": "QAJNLT8xs6TP"
   },
   "source": [
    "# Dataloaders"
   ]
  },
  {
   "cell_type": "markdown",
   "metadata": {},
   "source": [
    "Next, we rearrange the data into batches and form the dataloaders"
   ]
  },
  {
   "cell_type": "code",
   "execution_count": 8,
   "metadata": {
    "executionInfo": {
     "elapsed": 496,
     "status": "ok",
     "timestamp": 1614902803004,
     "user": {
      "displayName": "Peiyi Hung",
      "photoUrl": "",
      "userId": "11336533706330979787"
     },
     "user_tz": -480
    },
    "id": "Uzi_AQXss6TQ"
   },
   "outputs": [],
   "source": [
    "def group_chunks(ds, bs):\n",
    "    m = len(ds) // bs\n",
    "    new_ds = L()\n",
    "    for i in range(m): new_ds += L(ds[i + m*j] for j in range(bs)) \n",
    "    return new_ds"
   ]
  },
  {
   "cell_type": "code",
   "execution_count": 9,
   "metadata": {
    "executionInfo": {
     "elapsed": 717,
     "status": "ok",
     "timestamp": 1614902804376,
     "user": {
      "displayName": "Peiyi Hung",
      "photoUrl": "",
      "userId": "11336533706330979787"
     },
     "user_tz": -480
    },
    "id": "Kw3raaR2s6TQ"
   },
   "outputs": [],
   "source": [
    "sl = 16 # sequence length\n",
    "bs = 32 # batch size\n",
    "seqs = L((tensor(nums[i:i+sl]), tensor(nums[i+1:i+sl+1]))\n",
    "         for i in range(0,len(nums)-sl-1,sl))\n",
    "cut = int(len(seqs) * 0.8)\n",
    "dls = DataLoaders.from_dsets(group_chunks(seqs[:cut], bs),\n",
    "                             group_chunks(seqs[cut:], bs),\n",
    "                             bs=bs, drop_last=True, shuffle=False)"
   ]
  },
  {
   "cell_type": "markdown",
   "metadata": {},
   "source": [
    "Let's see how the data is formed in a batch:"
   ]
  },
  {
   "cell_type": "code",
   "execution_count": 10,
   "metadata": {
    "executionInfo": {
     "elapsed": 435,
     "status": "ok",
     "timestamp": 1614902805444,
     "user": {
      "displayName": "Peiyi Hung",
      "photoUrl": "",
      "userId": "11336533706330979787"
     },
     "user_tz": -480
    },
    "id": "JQ3CZkTAs6TQ"
   },
   "outputs": [],
   "source": [
    "xs, y = dls.one_batch()"
   ]
  },
  {
   "cell_type": "code",
   "execution_count": 17,
   "metadata": {},
   "outputs": [
    {
     "data": {
      "text/plain": [
       "(#16) ['零','.','一','.','二','.','三','.','四','.'...]"
      ]
     },
     "execution_count": 17,
     "metadata": {},
     "output_type": "execute_result"
    }
   ],
   "source": [
    "L(vocab[i] for i in xs[0])"
   ]
  },
  {
   "cell_type": "code",
   "execution_count": 16,
   "metadata": {},
   "outputs": [
    {
     "data": {
      "text/plain": [
       "(#16) ['.','一','.','二','.','三','.','四','.','五'...]"
      ]
     },
     "execution_count": 16,
     "metadata": {},
     "output_type": "execute_result"
    }
   ],
   "source": [
    "L(vocab[i] for i in y[0])"
   ]
  },
  {
   "cell_type": "markdown",
   "metadata": {},
   "source": [
    "For each time step, the model is predicting the next word given previous word, so the independent variable is a sequence of tokens and the target would be the next word."
   ]
  },
  {
   "cell_type": "markdown",
   "metadata": {
    "id": "GGa5VGcas6TQ"
   },
   "source": [
    "# Models"
   ]
  },
  {
   "cell_type": "markdown",
   "metadata": {},
   "source": [
    "In this section, I create RNN models for the language model task. Here's a list of models:\n",
    "* vanilla RNN\n",
    "* two-layered RNN\n",
    "* LSTM\n",
    "* two-layered LSTM\n",
    "* GRU\n",
    "* LSTM + regularization \n",
    "\n",
    "The last one uses Pytorch's `nn.LSTM`, while the rest only use `nn.Linear` and `nn.Embedding` modules. All the models would be trained using cross entropy as loss function, Adam as optimization method and accuracy as evaluation metric."
   ]
  },
  {
   "cell_type": "markdown",
   "metadata": {
    "id": "im4SBWZSs6TQ"
   },
   "source": [
    "## Vanilla RNN"
   ]
  },
  {
   "cell_type": "markdown",
   "metadata": {},
   "source": [
    "The first model is a RNN with only plain linear layers in it."
   ]
  },
  {
   "cell_type": "code",
   "execution_count": 11,
   "metadata": {
    "executionInfo": {
     "elapsed": 689,
     "status": "ok",
     "timestamp": 1614902875342,
     "user": {
      "displayName": "Peiyi Hung",
      "photoUrl": "",
      "userId": "11336533706330979787"
     },
     "user_tz": -480
    },
    "id": "6dvdDKahs6TR"
   },
   "outputs": [],
   "source": [
    "class VanillaRNN(Module):\n",
    "    def __init__(self, vocab_sz, n_hidden):\n",
    "        self.i_h = nn.Embedding(vocab_sz, n_hidden)  \n",
    "        self.h_h = nn.Linear(n_hidden, n_hidden)     \n",
    "        self.h_o = nn.Linear(n_hidden,vocab_sz)\n",
    "        self.h = 0\n",
    "        \n",
    "    def forward(self, x):\n",
    "        outs = []\n",
    "        \n",
    "        # walking through each time step\n",
    "        for i in range(sl):\n",
    "            self.h = self.h + self.i_h(x[:,i])\n",
    "            self.h = F.relu(self.h_h(self.h))\n",
    "            outs.append(self.h_o(self.h))\n",
    "        self.h = self.h.detach()\n",
    "        return torch.stack(outs, dim=1)\n",
    "    \n",
    "    def reset(self): self.h = 0\n",
    "\n",
    "def loss_func(inp, targ):\n",
    "    return F.cross_entropy(inp.view(-1, len(vocab)), targ.view(-1))"
   ]
  },
  {
   "cell_type": "markdown",
   "metadata": {},
   "source": [
    "This model is composed of:\n",
    "* `self.i_h`: an embedding layer (`nn.Embedding`) taking into a index of a token and return the embedding vector of a token.\n",
    "* `self.h_h`: a plain linear layer taking the vector of word and performing linear transformation\n",
    "* `self.h_o`: the output layer generating the probability of being each word in the `vocab`\n",
    "* `self.h`: the hidden state of the RNN"
   ]
  },
  {
   "cell_type": "markdown",
   "metadata": {},
   "source": [
    "Let's train this model:"
   ]
  },
  {
   "cell_type": "code",
   "execution_count": 12,
   "metadata": {
    "colab": {
     "base_uri": "https://localhost:8080/",
     "height": 359
    },
    "executionInfo": {
     "elapsed": 13891,
     "status": "ok",
     "timestamp": 1614902891487,
     "user": {
      "displayName": "Peiyi Hung",
      "photoUrl": "",
      "userId": "11336533706330979787"
     },
     "user_tz": -480
    },
    "id": "UZjxBo37s6TR",
    "outputId": "46591715-cba2-468e-84e3-26ddbcd15d7b"
   },
   "outputs": [
    {
     "data": {
      "text/html": [],
      "text/plain": [
       "<IPython.core.display.HTML object>"
      ]
     },
     "metadata": {},
     "output_type": "display_data"
    },
    {
     "data": {
      "text/plain": [
       "SuggestedLRs(lr_min=0.010000000149011612, lr_steep=0.009120108559727669)"
      ]
     },
     "execution_count": 12,
     "metadata": {},
     "output_type": "execute_result"
    },
    {
     "data": {
      "image/png": "[encoded data removed]",
      "text/plain": [
       "<Figure size 432x288 with 1 Axes>"
      ]
     },
     "metadata": {
      "needs_background": "light"
     },
     "output_type": "display_data"
    }
   ],
   "source": [
    "learn1 = Learner(dls, VanillaRNN(len(vocab), 128), loss_func=loss_func,\n",
    "                metrics=accuracy, cbs=ModelResetter)\n",
    "learn1.lr_find()"
   ]
  },
  {
   "cell_type": "code",
   "execution_count": 13,
   "metadata": {},
   "outputs": [
    {
     "data": {
      "text/html": [
       "<table border=\"1\" class=\"dataframe\">\n",
       "  <thead>\n",
       "    <tr style=\"text-align: left;\">\n",
       "      <th>epoch</th>\n",
       "      <th>train_loss</th>\n",
       "      <th>valid_loss</th>\n",
       "      <th>accuracy</th>\n",
       "      <th>time</th>\n",
       "    </tr>\n",
       "  </thead>\n",
       "  <tbody>\n",
       "    <tr>\n",
       "      <td>0</td>\n",
       "      <td>1.479430</td>\n",
       "      <td>1.525608</td>\n",
       "      <td>0.455280</td>\n",
       "      <td>00:01</td>\n",
       "    </tr>\n",
       "    <tr>\n",
       "      <td>1</td>\n",
       "      <td>1.121994</td>\n",
       "      <td>1.544240</td>\n",
       "      <td>0.526670</td>\n",
       "      <td>00:01</td>\n",
       "    </tr>\n",
       "    <tr>\n",
       "      <td>2</td>\n",
       "      <td>0.921751</td>\n",
       "      <td>1.768980</td>\n",
       "      <td>0.579270</td>\n",
       "      <td>00:01</td>\n",
       "    </tr>\n",
       "    <tr>\n",
       "      <td>3</td>\n",
       "      <td>0.737316</td>\n",
       "      <td>1.990620</td>\n",
       "      <td>0.618400</td>\n",
       "      <td>00:01</td>\n",
       "    </tr>\n",
       "    <tr>\n",
       "      <td>4</td>\n",
       "      <td>0.612017</td>\n",
       "      <td>2.001600</td>\n",
       "      <td>0.637998</td>\n",
       "      <td>00:01</td>\n",
       "    </tr>\n",
       "    <tr>\n",
       "      <td>5</td>\n",
       "      <td>0.520435</td>\n",
       "      <td>2.110346</td>\n",
       "      <td>0.662985</td>\n",
       "      <td>00:01</td>\n",
       "    </tr>\n",
       "    <tr>\n",
       "      <td>6</td>\n",
       "      <td>0.432043</td>\n",
       "      <td>2.188616</td>\n",
       "      <td>0.696862</td>\n",
       "      <td>00:01</td>\n",
       "    </tr>\n",
       "    <tr>\n",
       "      <td>7</td>\n",
       "      <td>0.357842</td>\n",
       "      <td>2.515358</td>\n",
       "      <td>0.727910</td>\n",
       "      <td>00:01</td>\n",
       "    </tr>\n",
       "    <tr>\n",
       "      <td>8</td>\n",
       "      <td>0.302256</td>\n",
       "      <td>2.760709</td>\n",
       "      <td>0.741110</td>\n",
       "      <td>00:01</td>\n",
       "    </tr>\n",
       "    <tr>\n",
       "      <td>9</td>\n",
       "      <td>0.252840</td>\n",
       "      <td>2.879565</td>\n",
       "      <td>0.750606</td>\n",
       "      <td>00:01</td>\n",
       "    </tr>\n",
       "  </tbody>\n",
       "</table>"
      ],
      "text/plain": [
       "<IPython.core.display.HTML object>"
      ]
     },
     "metadata": {},
     "output_type": "display_data"
    }
   ],
   "source": [
    "learn1.fit_one_cycle(10, 5e-3)"
   ]
  },
  {
   "cell_type": "markdown",
   "metadata": {},
   "source": [
    "We get 75% accuracy after 10 epochs."
   ]
  },
  {
   "cell_type": "markdown",
   "metadata": {
    "id": "IQC2W-oCs6TR"
   },
   "source": [
    "## Two-layered RNN"
   ]
  },
  {
   "cell_type": "markdown",
   "metadata": {},
   "source": [
    "You can stack multiple linear layers in a RNN to make you model more powerful. Here I make a two-layered one."
   ]
  },
  {
   "cell_type": "code",
   "execution_count": 14,
   "metadata": {
    "executionInfo": {
     "elapsed": 617,
     "status": "ok",
     "timestamp": 1614902899713,
     "user": {
      "displayName": "Peiyi Hung",
      "photoUrl": "",
      "userId": "11336533706330979787"
     },
     "user_tz": -480
    },
    "id": "VW0YOOrLs6TR"
   },
   "outputs": [],
   "source": [
    "class TwoLayersRNN(Module):\n",
    "    def __init__(self, vocab_sz, n_hidden):\n",
    "        self.i_h = nn.Embedding(vocab_sz, n_hidden)\n",
    "        self.h_h1 = nn.Linear(n_hidden, n_hidden)\n",
    "        self.h_h2 = nn.Linear(n_hidden, n_hidden)\n",
    "        self.h_o = nn.Linear(n_hidden, vocab_sz)\n",
    "        self.h1 = 0\n",
    "        self.h2 = 0\n",
    "        \n",
    "    def forward(self, x):\n",
    "        outs = []\n",
    "        for i in range(sl):\n",
    "            self.h1 = self.h1 + self.i_h(x[:,i])\n",
    "            self.h1 = F.relu(self.h_h1(self.h1))\n",
    "            self.h2 = self.h2 + self.h1\n",
    "            self.h2 = F.relu(self.h_h2(self.h2))\n",
    "            outs.append(self.h_o(self.h2))\n",
    "        self.h1 = self.h1.detach()\n",
    "        self.h2 = self.h2.detach()\n",
    "        return torch.stack(outs, dim=1)\n",
    "    \n",
    "    def reset(self): \n",
    "        self.h1 = 0\n",
    "        self.h2 = 0"
   ]
  },
  {
   "cell_type": "markdown",
   "metadata": {},
   "source": [
    "This model is also a RNN with plain linear layers but it has two linear layers. You can find the two linear layers in the codes:`self.h_h1` and `self.h_h2`. Let's see if it can outperform the single-layered one."
   ]
  },
  {
   "cell_type": "code",
   "execution_count": 46,
   "metadata": {
    "colab": {
     "base_uri": "https://localhost:8080/",
     "height": 359
    },
    "executionInfo": {
     "elapsed": 17139,
     "status": "ok",
     "timestamp": 1614902918461,
     "user": {
      "displayName": "Peiyi Hung",
      "photoUrl": "",
      "userId": "11336533706330979787"
     },
     "user_tz": -480
    },
    "id": "Fj_T_3hls6TS",
    "outputId": "6addd9a4-792c-4ed4-8b0e-0fcbc296fbcd"
   },
   "outputs": [
    {
     "data": {
      "text/html": [],
      "text/plain": [
       "<IPython.core.display.HTML object>"
      ]
     },
     "metadata": {},
     "output_type": "display_data"
    },
    {
     "data": {
      "text/plain": [
       "SuggestedLRs(lr_min=0.010000000149011612, lr_steep=0.005248074419796467)"
      ]
     },
     "execution_count": 46,
     "metadata": {},
     "output_type": "execute_result"
    },
    {
     "data": {
      "image/png": "[encoded data removed]",
      "text/plain": [
       "<Figure size 432x288 with 1 Axes>"
      ]
     },
     "metadata": {
      "needs_background": "light"
     },
     "output_type": "display_data"
    }
   ],
   "source": [
    "learn2 = Learner(dls, TwoLayersRNN(len(vocab), 128), \n",
    "                loss_func=CrossEntropyLossFlat(), \n",
    "                metrics=accuracy, cbs=ModelResetter)\n",
    "learn2.lr_find()"
   ]
  },
  {
   "cell_type": "code",
   "execution_count": 47,
   "metadata": {},
   "outputs": [
    {
     "data": {
      "text/html": [
       "<table border=\"1\" class=\"dataframe\">\n",
       "  <thead>\n",
       "    <tr style=\"text-align: left;\">\n",
       "      <th>epoch</th>\n",
       "      <th>train_loss</th>\n",
       "      <th>valid_loss</th>\n",
       "      <th>accuracy</th>\n",
       "      <th>time</th>\n",
       "    </tr>\n",
       "  </thead>\n",
       "  <tbody>\n",
       "    <tr>\n",
       "      <td>0</td>\n",
       "      <td>1.432051</td>\n",
       "      <td>1.517559</td>\n",
       "      <td>0.454337</td>\n",
       "      <td>00:01</td>\n",
       "    </tr>\n",
       "    <tr>\n",
       "      <td>1</td>\n",
       "      <td>1.138805</td>\n",
       "      <td>1.898586</td>\n",
       "      <td>0.539601</td>\n",
       "      <td>00:01</td>\n",
       "    </tr>\n",
       "    <tr>\n",
       "      <td>2</td>\n",
       "      <td>0.823014</td>\n",
       "      <td>2.276638</td>\n",
       "      <td>0.555900</td>\n",
       "      <td>00:01</td>\n",
       "    </tr>\n",
       "    <tr>\n",
       "      <td>3</td>\n",
       "      <td>0.629227</td>\n",
       "      <td>1.774288</td>\n",
       "      <td>0.618871</td>\n",
       "      <td>00:01</td>\n",
       "    </tr>\n",
       "    <tr>\n",
       "      <td>4</td>\n",
       "      <td>0.507961</td>\n",
       "      <td>1.674384</td>\n",
       "      <td>0.629782</td>\n",
       "      <td>00:01</td>\n",
       "    </tr>\n",
       "    <tr>\n",
       "      <td>5</td>\n",
       "      <td>0.400248</td>\n",
       "      <td>1.949680</td>\n",
       "      <td>0.659079</td>\n",
       "      <td>00:01</td>\n",
       "    </tr>\n",
       "    <tr>\n",
       "      <td>6</td>\n",
       "      <td>0.352511</td>\n",
       "      <td>1.605654</td>\n",
       "      <td>0.693427</td>\n",
       "      <td>00:01</td>\n",
       "    </tr>\n",
       "    <tr>\n",
       "      <td>7</td>\n",
       "      <td>0.252898</td>\n",
       "      <td>1.634336</td>\n",
       "      <td>0.752155</td>\n",
       "      <td>00:01</td>\n",
       "    </tr>\n",
       "    <tr>\n",
       "      <td>8</td>\n",
       "      <td>0.212198</td>\n",
       "      <td>1.842869</td>\n",
       "      <td>0.764547</td>\n",
       "      <td>00:01</td>\n",
       "    </tr>\n",
       "    <tr>\n",
       "      <td>9</td>\n",
       "      <td>0.177986</td>\n",
       "      <td>1.873169</td>\n",
       "      <td>0.770205</td>\n",
       "      <td>00:02</td>\n",
       "    </tr>\n",
       "  </tbody>\n",
       "</table>"
      ],
      "text/plain": [
       "<IPython.core.display.HTML object>"
      ]
     },
     "metadata": {},
     "output_type": "display_data"
    }
   ],
   "source": [
    "learn2.fit_one_cycle(10, 5e-3)"
   ]
  },
  {
   "cell_type": "markdown",
   "metadata": {},
   "source": [
    "This model get 2% increase in accuracy also with 10 epcohs as the previous one."
   ]
  },
  {
   "cell_type": "markdown",
   "metadata": {},
   "source": [
    "The vanilla RNN severely suffers from the vanishing gradient problem. To resolve the problem, several cell architectures are designed including [Long Short-term Memory (LSTM)](https://www.bioinf.jku.at/publications/older/2604.pdf) and [Gated Recurrent Unit (GRU)](https://arxiv.org/abs/1406.1078v3). I would implement these two method with Pytorch in the following sections."
   ]
  },
  {
   "cell_type": "markdown",
   "metadata": {
    "id": "j0J6jqyys6TS"
   },
   "source": [
    "## Long Short-Term Memory (LSTM)"
   ]
  },
  {
   "cell_type": "markdown",
   "metadata": {},
   "source": [
    "Instead of using a linear layer, LSTM use a much more sophisticated cells in a RNN. Here's the cell in codes:"
   ]
  },
  {
   "cell_type": "code",
   "execution_count": 33,
   "metadata": {
    "executionInfo": {
     "elapsed": 659,
     "status": "ok",
     "timestamp": 1614902956239,
     "user": {
      "displayName": "Peiyi Hung",
      "photoUrl": "",
      "userId": "11336533706330979787"
     },
     "user_tz": -480
    },
    "id": "pziujb1-s6TT"
   },
   "outputs": [],
   "source": [
    "# LSTM cell\n",
    "class LSTMCell(Module):\n",
    "    def __init__(self, ni, nh):\n",
    "        self.forget_gate = nn.Linear(ni+nh, nh)\n",
    "        self.input_gate = nn.Linear(ni+nh, nh)\n",
    "        self.outout_gate = nn.Linear(ni+nh, nh)\n",
    "        self.cell_gate = nn.Linear(ni+nh, nh)\n",
    "        self.n_size = ni+nh\n",
    "    \n",
    "    def forward(self, input_, state):\n",
    "        # h and c from last time step, concatenate them into a single vector\n",
    "        h, c = state\n",
    "        h = torch.stack([h, input_], dim=1).view(-1, self.n_size)\n",
    "        \n",
    "        # gates\n",
    "        forget = torch.sigmoid(self.forget_gate(h))\n",
    "        inp = torch.sigmoid(self.input_gate(h))\n",
    "        output = torch.sigmoid(self.outout_gate(h))\n",
    "        \n",
    "        # update or forget content\n",
    "        cell = torch.tanh(self.cell_gate(h))\n",
    "        c = forget * c + inp*cell\n",
    "        h = torch.tanh(c) * output\n",
    "        return h, (h, c)\n",
    "        "
   ]
  },
  {
   "cell_type": "markdown",
   "metadata": {},
   "source": [
    "In a LSTM cell, two states would be passed through the network: hidden state `h` and cell state `c`. Hidden state and the input (`input_`) at each time step would be concatenated together first.\n",
    "```\n",
    "h = torch.stack([h, input_], dim=1).view(-1, self.n_size)\n",
    "```\n",
    "And then they would be passed into three gates: forget gate, input gate, and output gate. \n",
    "```\n",
    "forget = torch.sigmoid(self.forget_gate(h))\n",
    "inp = torch.sigmoid(self.input_gate(h))\n",
    "output = torch.sigmoid(self.outout_gate(h))\n",
    "\n",
    "```\n",
    "Since these three gates all use sigmoid function as activation function, they would produce three scores ranging from 0 to 1. A new cell state would be computed by passing hidden state into the cell state and then the tanh function. \n",
    "```\n",
    "cell = torch.tanh(self.cell_gate(h))\n",
    "```\n",
    "The updated cell state would be a weighted average of the previous cell state and the one that's newly computed. The weights are the output of forget gate and input gate.\n",
    "```\n",
    "c = forget * c + inp * cell\n",
    "```\n",
    "This new cell state would also be passed into the tanh function and times the output gate score becoming the new hidden state.\n",
    "```\n",
    "h = torch.tanh(c) * output\n",
    "```\n",
    "\n",
    "There are two sets of output of the LSTM cell: `h` is the output of each time step and `(h, c)` are the states passed into the next time step."
   ]
  },
  {
   "cell_type": "markdown",
   "metadata": {},
   "source": [
    "Let's bulid a LSTM RNN and train it:"
   ]
  },
  {
   "cell_type": "code",
   "execution_count": 33,
   "metadata": {
    "executionInfo": {
     "elapsed": 659,
     "status": "ok",
     "timestamp": 1614902956239,
     "user": {
      "displayName": "Peiyi Hung",
      "photoUrl": "",
      "userId": "11336533706330979787"
     },
     "user_tz": -480
    },
    "id": "pziujb1-s6TT"
   },
   "outputs": [],
   "source": [
    "# build a RNN applying LSTM cell\n",
    "class MyLSTM(Module):\n",
    "    def __init__(self, vocab_sz, n_hidden):\n",
    "        self.i_h = nn.Embedding(vocab_sz, n_hidden)\n",
    "        self.rnn = LSTMCell(n_hidden, n_hidden)\n",
    "        self.h_o = nn.Linear(n_hidden, vocab_sz)\n",
    "        self.h = torch.zeros(bs, n_hidden)\n",
    "        self.c = torch.zeros(bs, n_hidden)\n",
    "\n",
    "    def forward(self, x):\n",
    "        out = []\n",
    "        state = (self.h, self.c)\n",
    "        for i in range(sl):\n",
    "            output, state = self.rnn(self.i_h(x[:,i]), state)\n",
    "            out.append(self.h_o(output))\n",
    "        self.h = self.h.detach()\n",
    "        self.c = self.c.detach()\n",
    "        return torch.stack(out, dim=1)\n",
    "    \n",
    "    def reset(self): \n",
    "        self.h = self.h.zero_()\n",
    "        self.c = self.c.zero_()"
   ]
  },
  {
   "cell_type": "code",
   "execution_count": 36,
   "metadata": {
    "colab": {
     "base_uri": "https://localhost:8080/",
     "height": 514
    },
    "executionInfo": {
     "elapsed": 39141,
     "status": "ok",
     "timestamp": 1614902996116,
     "user": {
      "displayName": "Peiyi Hung",
      "photoUrl": "",
      "userId": "11336533706330979787"
     },
     "user_tz": -480
    },
    "id": "R0rkMVwTs6TT",
    "outputId": "bb1f3b70-8025-4b08-d3aa-ddf34f71fcf0"
   },
   "outputs": [
    {
     "data": {
      "text/html": [],
      "text/plain": [
       "<IPython.core.display.HTML object>"
      ]
     },
     "metadata": {},
     "output_type": "display_data"
    },
    {
     "data": {
      "text/plain": [
       "SuggestedLRs(lr_min=0.04365158379077912, lr_steep=0.009120108559727669)"
      ]
     },
     "execution_count": 36,
     "metadata": {},
     "output_type": "execute_result"
    },
    {
     "data": {
      "image/png": "[encoded data removed]",
      "text/plain": [
       "<Figure size 432x288 with 1 Axes>"
      ]
     },
     "metadata": {
      "needs_background": "light"
     },
     "output_type": "display_data"
    }
   ],
   "source": [
    "learn3 = Learner(dls, MyLSTM(len(vocab), 128), \n",
    "                loss_func=CrossEntropyLossFlat(), \n",
    "                metrics=accuracy, cbs=ModelResetter)\n",
    "learn3.lr_find()"
   ]
  },
  {
   "cell_type": "code",
   "execution_count": 35,
   "metadata": {},
   "outputs": [
    {
     "data": {
      "text/html": [
       "<table border=\"1\" class=\"dataframe\">\n",
       "  <thead>\n",
       "    <tr style=\"text-align: left;\">\n",
       "      <th>epoch</th>\n",
       "      <th>train_loss</th>\n",
       "      <th>valid_loss</th>\n",
       "      <th>accuracy</th>\n",
       "      <th>time</th>\n",
       "    </tr>\n",
       "  </thead>\n",
       "  <tbody>\n",
       "    <tr>\n",
       "      <td>0</td>\n",
       "      <td>1.564131</td>\n",
       "      <td>1.658502</td>\n",
       "      <td>0.413254</td>\n",
       "      <td>00:06</td>\n",
       "    </tr>\n",
       "    <tr>\n",
       "      <td>1</td>\n",
       "      <td>1.132675</td>\n",
       "      <td>1.635722</td>\n",
       "      <td>0.495824</td>\n",
       "      <td>00:06</td>\n",
       "    </tr>\n",
       "    <tr>\n",
       "      <td>2</td>\n",
       "      <td>0.874189</td>\n",
       "      <td>1.553444</td>\n",
       "      <td>0.536099</td>\n",
       "      <td>00:06</td>\n",
       "    </tr>\n",
       "    <tr>\n",
       "      <td>3</td>\n",
       "      <td>0.682400</td>\n",
       "      <td>1.353059</td>\n",
       "      <td>0.626549</td>\n",
       "      <td>00:06</td>\n",
       "    </tr>\n",
       "    <tr>\n",
       "      <td>4</td>\n",
       "      <td>0.529528</td>\n",
       "      <td>1.235760</td>\n",
       "      <td>0.652883</td>\n",
       "      <td>00:06</td>\n",
       "    </tr>\n",
       "    <tr>\n",
       "      <td>5</td>\n",
       "      <td>0.461710</td>\n",
       "      <td>1.070935</td>\n",
       "      <td>0.693023</td>\n",
       "      <td>00:06</td>\n",
       "    </tr>\n",
       "    <tr>\n",
       "      <td>6</td>\n",
       "      <td>0.435143</td>\n",
       "      <td>1.129873</td>\n",
       "      <td>0.695043</td>\n",
       "      <td>00:06</td>\n",
       "    </tr>\n",
       "    <tr>\n",
       "      <td>7</td>\n",
       "      <td>0.417539</td>\n",
       "      <td>1.090291</td>\n",
       "      <td>0.706897</td>\n",
       "      <td>00:05</td>\n",
       "    </tr>\n",
       "    <tr>\n",
       "      <td>8</td>\n",
       "      <td>0.400883</td>\n",
       "      <td>1.208046</td>\n",
       "      <td>0.708176</td>\n",
       "      <td>00:05</td>\n",
       "    </tr>\n",
       "    <tr>\n",
       "      <td>9</td>\n",
       "      <td>0.392933</td>\n",
       "      <td>1.203122</td>\n",
       "      <td>0.707099</td>\n",
       "      <td>00:06</td>\n",
       "    </tr>\n",
       "  </tbody>\n",
       "</table>"
      ],
      "text/plain": [
       "<IPython.core.display.HTML object>"
      ]
     },
     "metadata": {},
     "output_type": "display_data"
    }
   ],
   "source": [
    "learn3.fit_one_cycle(10, lr_max=1e-2)"
   ]
  },
  {
   "cell_type": "markdown",
   "metadata": {},
   "source": [
    "We train it for 10 epochs and this model use only get 70% accuracy. There may be some other problems we have to deal with."
   ]
  },
  {
   "cell_type": "markdown",
   "metadata": {},
   "source": [
    "## Two-layered LSTM"
   ]
  },
  {
   "cell_type": "markdown",
   "metadata": {},
   "source": [
    "As in the vanilla RNN, we can also stack LSTM cells. I create a two-layered one here."
   ]
  },
  {
   "cell_type": "code",
   "execution_count": 69,
   "metadata": {
    "executionInfo": {
     "elapsed": 559,
     "status": "ok",
     "timestamp": 1614903001731,
     "user": {
      "displayName": "Peiyi Hung",
      "photoUrl": "",
      "userId": "11336533706330979787"
     },
     "user_tz": -480
    },
    "id": "bNiTwEE-s6TU"
   },
   "outputs": [],
   "source": [
    "class MyLSTM2(Module):\n",
    "    def __init__(self, vocab_sz, n_hidden):\n",
    "        # networks\n",
    "        self.i_h = nn.Embedding(vocab_sz, n_hidden)\n",
    "        self.rnn1 = LSTMCell(n_hidden, n_hidden)\n",
    "        self.rnn2 = LSTMCell(n_hidden, n_hidden)\n",
    "        self.h_o = nn.Linear(n_hidden, vocab_sz)\n",
    "        \n",
    "        # hidden states, 2 layers and 2 states each layer\n",
    "        self.hs = [torch.zeros(bs, n_hidden) for _ in range(4)]\n",
    "        \n",
    "    def forward(self, x):\n",
    "        out = []\n",
    "        \n",
    "        # initial hidden states\n",
    "        state1 = [self.hs[i] for i in [0,1]]\n",
    "        state2 = [self.hs[i] for i in [2,3]]\n",
    "        \n",
    "        # go through all networks\n",
    "        for i in range(sl):\n",
    "            output, state1 = self.rnn1(self.i_h(x[:,i]), state1)\n",
    "            output, state2 = self.rnn2(output, state2)\n",
    "            out.append(self.h_o(output))\n",
    "            \n",
    "        # detach hidden states\n",
    "        for i in range(4):\n",
    "            self.hs[i] = self.hs[i].detach()\n",
    "            \n",
    "        return torch.stack(out, dim=1)\n",
    "    \n",
    "    def reset(self): \n",
    "        for i in range(4):\n",
    "            self.hs[i] = self.hs[i].zero_()"
   ]
  },
  {
   "cell_type": "markdown",
   "metadata": {},
   "source": [
    "Since we have two LSTM cells in the RNN, two sets of states are computed (`state1` and `state2`). The output hidden state of the first LSTM cell would be passed into the next LSTM cell and the next LSTM cell would generate the probability of each word."
   ]
  },
  {
   "cell_type": "code",
   "execution_count": 70,
   "metadata": {
    "colab": {
     "base_uri": "https://localhost:8080/",
     "height": 514
    },
    "executionInfo": {
     "elapsed": 38089,
     "status": "ok",
     "timestamp": 1614903039912,
     "user": {
      "displayName": "Peiyi Hung",
      "photoUrl": "",
      "userId": "11336533706330979787"
     },
     "user_tz": -480
    },
    "id": "xtACS0srs6TU",
    "outputId": "cd9e8c4f-cef1-48de-f8bd-017821292569"
   },
   "outputs": [
    {
     "data": {
      "text/html": [],
      "text/plain": [
       "<IPython.core.display.HTML object>"
      ]
     },
     "metadata": {},
     "output_type": "display_data"
    },
    {
     "data": {
      "text/plain": [
       "SuggestedLRs(lr_min=0.03630780577659607, lr_steep=0.019054606556892395)"
      ]
     },
     "execution_count": 70,
     "metadata": {},
     "output_type": "execute_result"
    },
    {
     "data": {
      "image/png": "[encoded data removed]",
      "text/plain": [
       "<Figure size 432x288 with 1 Axes>"
      ]
     },
     "metadata": {
      "needs_background": "light"
     },
     "output_type": "display_data"
    }
   ],
   "source": [
    "learn4 = Learner(dls, MyLSTM2(len(vocab), 128), \n",
    "                loss_func=CrossEntropyLossFlat(), \n",
    "                metrics=accuracy, cbs=ModelResetter)\n",
    "learn4.lr_find()"
   ]
  },
  {
   "cell_type": "code",
   "execution_count": 52,
   "metadata": {},
   "outputs": [
    {
     "data": {
      "text/html": [
       "<table border=\"1\" class=\"dataframe\">\n",
       "  <thead>\n",
       "    <tr style=\"text-align: left;\">\n",
       "      <th>epoch</th>\n",
       "      <th>train_loss</th>\n",
       "      <th>valid_loss</th>\n",
       "      <th>accuracy</th>\n",
       "      <th>time</th>\n",
       "    </tr>\n",
       "  </thead>\n",
       "  <tbody>\n",
       "    <tr>\n",
       "      <td>0</td>\n",
       "      <td>1.367824</td>\n",
       "      <td>1.692747</td>\n",
       "      <td>0.461072</td>\n",
       "      <td>00:06</td>\n",
       "    </tr>\n",
       "    <tr>\n",
       "      <td>1</td>\n",
       "      <td>1.101825</td>\n",
       "      <td>1.752430</td>\n",
       "      <td>0.499663</td>\n",
       "      <td>00:06</td>\n",
       "    </tr>\n",
       "    <tr>\n",
       "      <td>2</td>\n",
       "      <td>0.887319</td>\n",
       "      <td>1.522436</td>\n",
       "      <td>0.534079</td>\n",
       "      <td>00:05</td>\n",
       "    </tr>\n",
       "    <tr>\n",
       "      <td>3</td>\n",
       "      <td>0.752598</td>\n",
       "      <td>1.426126</td>\n",
       "      <td>0.591123</td>\n",
       "      <td>00:07</td>\n",
       "    </tr>\n",
       "    <tr>\n",
       "      <td>4</td>\n",
       "      <td>0.645684</td>\n",
       "      <td>1.208018</td>\n",
       "      <td>0.659011</td>\n",
       "      <td>00:05</td>\n",
       "    </tr>\n",
       "    <tr>\n",
       "      <td>5</td>\n",
       "      <td>0.572723</td>\n",
       "      <td>1.224382</td>\n",
       "      <td>0.638200</td>\n",
       "      <td>00:06</td>\n",
       "    </tr>\n",
       "    <tr>\n",
       "      <td>6</td>\n",
       "      <td>0.514688</td>\n",
       "      <td>1.094028</td>\n",
       "      <td>0.664130</td>\n",
       "      <td>00:06</td>\n",
       "    </tr>\n",
       "    <tr>\n",
       "      <td>7</td>\n",
       "      <td>0.484465</td>\n",
       "      <td>1.107556</td>\n",
       "      <td>0.669114</td>\n",
       "      <td>00:05</td>\n",
       "    </tr>\n",
       "    <tr>\n",
       "      <td>8</td>\n",
       "      <td>0.458131</td>\n",
       "      <td>1.096884</td>\n",
       "      <td>0.675647</td>\n",
       "      <td>00:05</td>\n",
       "    </tr>\n",
       "    <tr>\n",
       "      <td>9</td>\n",
       "      <td>0.444725</td>\n",
       "      <td>1.108794</td>\n",
       "      <td>0.673155</td>\n",
       "      <td>00:05</td>\n",
       "    </tr>\n",
       "  </tbody>\n",
       "</table>"
      ],
      "text/plain": [
       "<IPython.core.display.HTML object>"
      ]
     },
     "metadata": {},
     "output_type": "display_data"
    }
   ],
   "source": [
    "learn4.fit_one_cycle(10, lr_max=3e-2)"
   ]
  },
  {
   "cell_type": "markdown",
   "metadata": {
    "id": "83--vb1ps6TV"
   },
   "source": [
    "## Gated Recurrent Unit (GRU)"
   ]
  },
  {
   "cell_type": "markdown",
   "metadata": {},
   "source": [
    "GRU also attempts to address vanishing gradient problem as LSTM but it is less complicated than LSTM."
   ]
  },
  {
   "cell_type": "code",
   "execution_count": null,
   "metadata": {},
   "outputs": [],
   "source": [
    "class GRUcell(Module):\n",
    "    def __init__(self, ni, nh):\n",
    "        self.u_gate = nn.Linear(ni+nh, nh)\n",
    "        self.r_gate = nn.Linear(ni+nh, nh)\n",
    "        self.g = nn.Linear(ni+nh, nh)\n",
    "        self.n_size = ni+nh\n",
    "        \n",
    "    def forward(self, x, h):\n",
    "        # combine h from last time step and x from this time step\n",
    "        h_t = torch.stack([h, x], dim=1).view(-1, self.n_size)\n",
    "        \n",
    "        # update gate and reset gate\n",
    "        u = torch.sigmoid(self.u_gate(h_t))\n",
    "        r = torch.sigmoid(self.r_gate(h_t))\n",
    "        \n",
    "        # update or rest content\n",
    "        rh = h * r\n",
    "        x_rh = torch.stack([x, rh], dim=1).view(-1, self.n_size)\n",
    "        g = torch.tanh(self.g(x_rh))\n",
    "        return u*h + (1-u)*g"
   ]
  },
  {
   "cell_type": "markdown",
   "metadata": {},
   "source": [
    "In contrast to a LSTM cell, a GRU cell only has one hidden state (`h`) and two gates (`self.u_gate` and `self.r_gate`). As in the LSTM cell, the hidden state and the input at current time step would first be stacked together.\n",
    "```\n",
    "h_t = torch.stack([h, x], dim=1).view(-1, self.n_size)\n",
    "```\n",
    "This hidden state would be passed into two gates: update gate and reset gate.\n",
    "```\n",
    "u = torch.sigmoid(self.u_gate(h_t))\n",
    "r = torch.sigmoid(self.r_gate(h_t))\n",
    "```\n",
    "Next, we compute a new hidden state.\n",
    "```\n",
    "rh = h * r\n",
    "x_rh = torch.stack([x, rh], dim=1).view(-1, self.n_size)\n",
    "g = torch.tanh(self.g(x_rh))\n",
    "```\n",
    "The final output is a weighted average of the original hidden state and the new hidden state.\n",
    "```\n",
    "u * h + (1-u) * g\n",
    "```"
   ]
  },
  {
   "cell_type": "markdown",
   "metadata": {},
   "source": [
    "Let's apply this GRU cell to a RNN and train this RNN:"
   ]
  },
  {
   "cell_type": "code",
   "execution_count": null,
   "metadata": {},
   "outputs": [],
   "source": [
    "class MyGRU(Module):\n",
    "    def __init__(self, vocab_sz, n_hidden):\n",
    "        self.i_h = nn.Embedding(vocab_sz, n_hidden)\n",
    "        self.rnn = GRUcell(n_hidden, n_hidden)\n",
    "        self.h_o = nn.Linear(n_hidden, vocab_sz)\n",
    "        self.h = torch.zeros(bs, n_hidden)\n",
    "\n",
    "    def forward(self, x):\n",
    "        out = []\n",
    "        for i in range(sl):\n",
    "            self.h = self.rnn(self.i_h(x[:,i]), self.h)\n",
    "            out.append(self.h_o(self.h))\n",
    "        self.h = self.h.detach()\n",
    "        return torch.stack(out, dim=1)\n",
    "    \n",
    "    def reset(self): \n",
    "        self.h.zero_()"
   ]
  },
  {
   "cell_type": "code",
   "execution_count": 141,
   "metadata": {
    "colab": {
     "base_uri": "https://localhost:8080/",
     "height": 514
    },
    "executionInfo": {
     "elapsed": 36736,
     "status": "ok",
     "timestamp": 1614903084659,
     "user": {
      "displayName": "Peiyi Hung",
      "photoUrl": "",
      "userId": "11336533706330979787"
     },
     "user_tz": -480
    },
    "id": "Vrz3Aa1js6TV",
    "outputId": "de11534f-9117-444b-b6da-8cef6b96f4bb"
   },
   "outputs": [
    {
     "data": {
      "text/html": [],
      "text/plain": [
       "<IPython.core.display.HTML object>"
      ]
     },
     "metadata": {},
     "output_type": "display_data"
    },
    {
     "data": {
      "text/plain": [
       "SuggestedLRs(lr_min=0.02089296132326126, lr_steep=0.009120108559727669)"
      ]
     },
     "execution_count": 141,
     "metadata": {},
     "output_type": "execute_result"
    },
    {
     "data": {
      "image/png": "[encoded data removed]",
      "text/plain": [
       "<Figure size 432x288 with 1 Axes>"
      ]
     },
     "metadata": {
      "needs_background": "light"
     },
     "output_type": "display_data"
    }
   ],
   "source": [
    "learn5 = Learner(dls, MyGRU(len(vocab), 128), \n",
    "                loss_func=CrossEntropyLossFlat(), \n",
    "                metrics=accuracy, cbs=ModelResetter)\n",
    "learn5.lr_find()"
   ]
  },
  {
   "cell_type": "code",
   "execution_count": 143,
   "metadata": {},
   "outputs": [
    {
     "data": {
      "text/html": [
       "<table border=\"1\" class=\"dataframe\">\n",
       "  <thead>\n",
       "    <tr style=\"text-align: left;\">\n",
       "      <th>epoch</th>\n",
       "      <th>train_loss</th>\n",
       "      <th>valid_loss</th>\n",
       "      <th>accuracy</th>\n",
       "      <th>time</th>\n",
       "    </tr>\n",
       "  </thead>\n",
       "  <tbody>\n",
       "    <tr>\n",
       "      <td>0</td>\n",
       "      <td>1.505964</td>\n",
       "      <td>1.656996</td>\n",
       "      <td>0.391501</td>\n",
       "      <td>00:03</td>\n",
       "    </tr>\n",
       "    <tr>\n",
       "      <td>1</td>\n",
       "      <td>1.137567</td>\n",
       "      <td>1.522142</td>\n",
       "      <td>0.539534</td>\n",
       "      <td>00:03</td>\n",
       "    </tr>\n",
       "    <tr>\n",
       "      <td>2</td>\n",
       "      <td>0.768740</td>\n",
       "      <td>1.856354</td>\n",
       "      <td>0.604054</td>\n",
       "      <td>00:03</td>\n",
       "    </tr>\n",
       "    <tr>\n",
       "      <td>3</td>\n",
       "      <td>0.494808</td>\n",
       "      <td>1.249206</td>\n",
       "      <td>0.647495</td>\n",
       "      <td>00:03</td>\n",
       "    </tr>\n",
       "    <tr>\n",
       "      <td>4</td>\n",
       "      <td>0.296579</td>\n",
       "      <td>1.079444</td>\n",
       "      <td>0.737204</td>\n",
       "      <td>00:03</td>\n",
       "    </tr>\n",
       "    <tr>\n",
       "      <td>5</td>\n",
       "      <td>0.154340</td>\n",
       "      <td>0.889941</td>\n",
       "      <td>0.789871</td>\n",
       "      <td>00:03</td>\n",
       "    </tr>\n",
       "    <tr>\n",
       "      <td>6</td>\n",
       "      <td>0.091274</td>\n",
       "      <td>0.959103</td>\n",
       "      <td>0.833311</td>\n",
       "      <td>00:03</td>\n",
       "    </tr>\n",
       "    <tr>\n",
       "      <td>7</td>\n",
       "      <td>0.057189</td>\n",
       "      <td>0.823301</td>\n",
       "      <td>0.849811</td>\n",
       "      <td>00:03</td>\n",
       "    </tr>\n",
       "    <tr>\n",
       "      <td>8</td>\n",
       "      <td>0.032112</td>\n",
       "      <td>0.825291</td>\n",
       "      <td>0.856075</td>\n",
       "      <td>00:03</td>\n",
       "    </tr>\n",
       "    <tr>\n",
       "      <td>9</td>\n",
       "      <td>0.024684</td>\n",
       "      <td>0.823506</td>\n",
       "      <td>0.856883</td>\n",
       "      <td>00:03</td>\n",
       "    </tr>\n",
       "  </tbody>\n",
       "</table>"
      ],
      "text/plain": [
       "<IPython.core.display.HTML object>"
      ]
     },
     "metadata": {},
     "output_type": "display_data"
    }
   ],
   "source": [
    "learn5.fit_one_cycle(10, lr_max=5e-3)"
   ]
  },
  {
   "cell_type": "markdown",
   "metadata": {},
   "source": [
    "Surprisingly, this GRU model gets 85% accuray which is much better than the LSTM one."
   ]
  },
  {
   "cell_type": "markdown",
   "metadata": {},
   "source": [
    "> Note: LSTM and GRU makes it easier to retain long-term information by adjusting those gates."
   ]
  },
  {
   "cell_type": "markdown",
   "metadata": {
    "id": "7FxKQiQFs6TW"
   },
   "source": [
    "## LSTM + Regularization techniques"
   ]
  },
  {
   "cell_type": "markdown",
   "metadata": {},
   "source": [
    "To get a good performance, the last model I train uses Pytorch's `nn.LSTM` module and serveral regularization techniques."
   ]
  },
  {
   "cell_type": "code",
   "execution_count": 58,
   "metadata": {
    "executionInfo": {
     "elapsed": 678,
     "status": "ok",
     "timestamp": 1614903256068,
     "user": {
      "displayName": "Peiyi Hung",
      "photoUrl": "",
      "userId": "11336533706330979787"
     },
     "user_tz": -480
    },
    "id": "gtaOjt26s6TX"
   },
   "outputs": [],
   "source": [
    "class LSTM_with_regularization(Module):\n",
    "    def __init__(self, vocab_sz, n_hidden, n_layers, p):\n",
    "        self.i_h = nn.Embedding(vocab_sz, n_hidden)\n",
    "        self.rnn = nn.LSTM(n_hidden, n_hidden, n_layers, batch_first=True)\n",
    "        self.drop = nn.Dropout(p)\n",
    "        self.h_o = nn.Linear(n_hidden, vocab_sz)\n",
    "        self.h_o.weight = self.i_h.weight\n",
    "        self.h = [torch.zeros(n_layers, bs, n_hidden) for _ in range(2)]\n",
    "        \n",
    "    def forward(self, x):\n",
    "        raw,h = self.rnn(self.i_h(x), self.h)\n",
    "        out = self.drop(raw)\n",
    "        self.h = [h_.detach() for h_ in h]\n",
    "        return self.h_o(out),raw,out\n",
    "    \n",
    "    def reset(self): \n",
    "        for h in self.h: h.zero_()"
   ]
  },
  {
   "cell_type": "code",
   "execution_count": 67,
   "metadata": {
    "executionInfo": {
     "elapsed": 508,
     "status": "ok",
     "timestamp": 1614903657093,
     "user": {
      "displayName": "Peiyi Hung",
      "photoUrl": "",
      "userId": "11336533706330979787"
     },
     "user_tz": -480
    },
    "id": "0GkRohQos6TX"
   },
   "outputs": [
    {
     "data": {
      "text/html": [],
      "text/plain": [
       "<IPython.core.display.HTML object>"
      ]
     },
     "metadata": {},
     "output_type": "display_data"
    },
    {
     "data": {
      "text/plain": [
       "SuggestedLRs(lr_min=0.10964782238006592, lr_steep=0.007585775572806597)"
      ]
     },
     "execution_count": 67,
     "metadata": {},
     "output_type": "execute_result"
    },
    {
     "data": {
      "image/png": "[encoded data removed]",
      "text/plain": [
       "<Figure size 432x288 with 1 Axes>"
      ]
     },
     "metadata": {
      "needs_background": "light"
     },
     "output_type": "display_data"
    }
   ],
   "source": [
    "learn6 = Learner(dls, LSTM_with_regularization(len(vocab), 128, 2, 0.5),\n",
    "                loss_func=CrossEntropyLossFlat(), metrics=accuracy,\n",
    "                cbs=[ModelResetter, RNNRegularizer(alpha=2, beta=1)])\n",
    "learn6.lr_find()"
   ]
  },
  {
   "cell_type": "markdown",
   "metadata": {},
   "source": [
    "In this model, three regularization method are used:\n",
    "* **Dropout**: randomly setting some weights of a unit to zero, implemented with `nn.Dropout`, the probability is set to 0.5.\n",
    "* **Activation Regularization (AR) and Temporal Activation Regularization (TAR)**: Similar to weight decay, trying to make the activation (AR) and the difference between consecutive activations (TAR) as small as possible, implemented with the callback `RNNRegularizer`.\n",
    "* **Weight tying**: setting the input embedding equal to the output embedding, `self.h_o.weight = self.i_h.weight` in the code."
   ]
  },
  {
   "cell_type": "code",
   "execution_count": 68,
   "metadata": {
    "colab": {
     "base_uri": "https://localhost:8080/",
     "height": 385
    },
    "executionInfo": {
     "elapsed": 719,
     "status": "error",
     "timestamp": 1614903334202,
     "user": {
      "displayName": "Peiyi Hung",
      "photoUrl": "",
      "userId": "11336533706330979787"
     },
     "user_tz": -480
    },
    "id": "y-D-3QXKs6TX",
    "outputId": "2af1b007-2533-4b8a-8557-9263905f1cfd"
   },
   "outputs": [
    {
     "data": {
      "text/html": [
       "<table border=\"1\" class=\"dataframe\">\n",
       "  <thead>\n",
       "    <tr style=\"text-align: left;\">\n",
       "      <th>epoch</th>\n",
       "      <th>train_loss</th>\n",
       "      <th>valid_loss</th>\n",
       "      <th>accuracy</th>\n",
       "      <th>time</th>\n",
       "    </tr>\n",
       "  </thead>\n",
       "  <tbody>\n",
       "    <tr>\n",
       "      <td>0</td>\n",
       "      <td>1.069000</td>\n",
       "      <td>0.940814</td>\n",
       "      <td>0.658540</td>\n",
       "      <td>00:05</td>\n",
       "    </tr>\n",
       "    <tr>\n",
       "      <td>1</td>\n",
       "      <td>0.348538</td>\n",
       "      <td>0.325210</td>\n",
       "      <td>0.894868</td>\n",
       "      <td>00:04</td>\n",
       "    </tr>\n",
       "    <tr>\n",
       "      <td>2</td>\n",
       "      <td>0.183276</td>\n",
       "      <td>0.245054</td>\n",
       "      <td>0.917565</td>\n",
       "      <td>00:04</td>\n",
       "    </tr>\n",
       "    <tr>\n",
       "      <td>3</td>\n",
       "      <td>0.138813</td>\n",
       "      <td>0.188584</td>\n",
       "      <td>0.956829</td>\n",
       "      <td>00:04</td>\n",
       "    </tr>\n",
       "    <tr>\n",
       "      <td>4</td>\n",
       "      <td>0.114447</td>\n",
       "      <td>0.170680</td>\n",
       "      <td>0.958648</td>\n",
       "      <td>00:04</td>\n",
       "    </tr>\n",
       "    <tr>\n",
       "      <td>5</td>\n",
       "      <td>0.102175</td>\n",
       "      <td>0.182135</td>\n",
       "      <td>0.954943</td>\n",
       "      <td>00:04</td>\n",
       "    </tr>\n",
       "  </tbody>\n",
       "</table>"
      ],
      "text/plain": [
       "<IPython.core.display.HTML object>"
      ]
     },
     "metadata": {},
     "output_type": "display_data"
    }
   ],
   "source": [
    "learn6.fit_one_cycle(6, 1e-2, wd=0.7)"
   ]
  },
  {
   "cell_type": "markdown",
   "metadata": {},
   "source": [
    "This final model gets a great accuracy of 95.5%!"
   ]
  },
  {
   "cell_type": "markdown",
   "metadata": {},
   "source": [
    "# Summary"
   ]
  },
  {
   "cell_type": "code",
   "execution_count": null,
   "metadata": {},
   "outputs": [],
   "source": []
  }
 ],
 "metadata": {
  "accelerator": "GPU",
  "colab": {
   "collapsed_sections": [],
   "name": "Chinese_numbers.ipynb",
   "provenance": []
  },
  "kernelspec": {
   "display_name": "Python 3",
   "language": "python",
   "name": "python3"
  },
  "language_info": {
   "codemirror_mode": {
    "name": "ipython",
    "version": 3
   },
   "file_extension": ".py",
   "mimetype": "text/x-python",
   "name": "python",
   "nbconvert_exporter": "python",
   "pygments_lexer": "ipython3",
   "version": "3.8.5"
  }
 },
 "nbformat": 4,
 "nbformat_minor": 4
}
